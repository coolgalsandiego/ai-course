{
 "cells": [
  {
   "cell_type": "markdown",
   "metadata": {},
   "source": [
    "# Azure OpenAI integration into APIM: function calling\n",
    "\n",
    "Playground to try the OpenAI [function calling](https://learn.microsoft.com/azure/ai-services/openai/how-to/function-calling?tabs=non-streaming%2Cpython) feature with an Azure Functions API also managed with APIM. \n",
    "\n",
    "At a high level you can break down working with functions into three steps:\n",
    "1. Call the chat completions API with your functions and the user’s input\n",
    "2. Use the model’s response to call your API or function\n",
    "3. Call the chat completions API again, including the response from your function to get a final response\n",
    "\n",
    "![](images/architecture.png)\n",
    "\n",
    "### Prerequisites\n",
    "- [Terraform](https://learn.hashicorp.com/tutorials/terraform/install-cli) installed\n",
    "- [Python 3.12 or later version](https://www.python.org/) installed\n",
    "- [Pandas Library](https://pandas.pydata.org/) installed\n",
    "- [VS Code](https://code.visualstudio.com/) installed with the [Jupyter notebook extension](https://marketplace.visualstudio.com/items?itemName=ms-toolsai.jupyter) enabled\n",
    "- [Azure CLI](https://learn.microsoft.com/cli/azure/install-azure-cli) installed\n",
    "- [Azure Functions Core Tools](https://learn.microsoft.com/azure/azure-functions/functions-run-local?tabs=windows%2Cisolated-process%2Cnode-v4%2Cpython-v2%2Chttp-trigger%2Ccontainer-apps&pivots=programming-language-python#install-the-azure-functions-core-tools) installed\n",
    "- [An Azure Subscription](https://azure.microsoft.com/free/) with Contributor permissions\n",
    "- [Access granted to Azure OpenAI](https://aka.ms/oai/access) or just enable the mock service\n",
    "- [Sign in to Azure with Azure CLI](https://learn.microsoft.com/cli/azure/authenticate-azure-cli-interactively)"
   ]
  },
  {
   "cell_type": "markdown",
   "metadata": {},
   "source": [
    "### 1️⃣ Create deployment using Terraform\n",
    "\n",
    "This lab uses Terraform to declaratively define all the resources that will be deployed. Change the [variables.tf](variables.tf) directly to try different configurations."
   ]
  },
  {
   "cell_type": "code",
   "execution_count": 19,
   "metadata": {},
   "outputs": [
    {
     "name": "stderr",
     "output_type": "stream",
     "text": [
      "The filename, directory name, or volume label syntax is incorrect.\n"
     ]
    },
    {
     "name": "stdout",
     "output_type": "stream",
     "text": [
      "\u001b[0m\u001b[1mInitializing the backend...\u001b[0m\n",
      "\u001b[0m\u001b[1mInitializing provider plugins...\u001b[0m\n",
      "- Reusing previous version of hashicorp/azurerm from the dependency lock file\n",
      "- Reusing previous version of azure/azapi from the dependency lock file\n",
      "- Reusing previous version of hashicorp/random from the dependency lock file\n",
      "- Using previously-installed azure/azapi v2.2.0\n",
      "- Using previously-installed hashicorp/random v3.6.3\n",
      "- Using previously-installed hashicorp/azurerm v4.16.0\n",
      "\n",
      "\u001b[0m\u001b[1m\u001b[32mTerraform has been successfully initialized!\u001b[0m\u001b[32m\u001b[0m\n",
      "\u001b[0m\u001b[32m\n",
      "You may now begin working with Terraform. Try running \"terraform plan\" to see\n",
      "any changes that are required for your infrastructure. All Terraform commands\n",
      "should now work.\n",
      "\n",
      "If you ever set or change modules or backend configuration for Terraform,\n",
      "rerun this command to reinitialize your working directory. If you forget, other\n",
      "commands will detect it and remind you to do so if necessary.\u001b[0m\n",
      "\u001b[0m\u001b[1mrandom_string.random: Refreshing state... [id=0fj9o]\u001b[0m\n",
      "\u001b[0m\u001b[1mazurerm_resource_group.rg: Refreshing state... [id=/subscriptions/dcef7009-6b94-4382-afdc-17eb160d709a/resourceGroups/rg-apim-genai-openai-350]\u001b[0m\n",
      "\u001b[0m\u001b[1mazurerm_service_plan.plan: Refreshing state... [id=/subscriptions/dcef7009-6b94-4382-afdc-17eb160d709a/resourceGroups/rg-apim-genai-openai-350/providers/Microsoft.Web/serverFarms/plan-functions]\u001b[0m\n",
      "\u001b[0m\u001b[1mazurerm_ai_services.ai-services: Refreshing state... [id=/subscriptions/dcef7009-6b94-4382-afdc-17eb160d709a/resourceGroups/rg-apim-genai-openai-350/providers/Microsoft.CognitiveServices/accounts/ai-services-0fj9o-350]\u001b[0m\n",
      "\u001b[0m\u001b[1mazurerm_storage_account.sa: Refreshing state... [id=/subscriptions/dcef7009-6b94-4382-afdc-17eb160d709a/resourceGroups/rg-apim-genai-openai-350/providers/Microsoft.Storage/storageAccounts/storfunc0fj9o350]\u001b[0m\n",
      "\u001b[0m\u001b[1mazapi_resource.apim: Refreshing state... [id=/subscriptions/dcef7009-6b94-4382-afdc-17eb160d709a/resourceGroups/rg-apim-genai-openai-350/providers/Microsoft.ApiManagement/service/apim-genai-basicv2-0fj9o-350]\u001b[0m\n",
      "\u001b[0m\u001b[1mazurerm_cognitive_deployment.gpt-4o: Refreshing state... [id=/subscriptions/dcef7009-6b94-4382-afdc-17eb160d709a/resourceGroups/rg-apim-genai-openai-350/providers/Microsoft.CognitiveServices/accounts/ai-services-0fj9o-350/deployments/gpt-4o]\u001b[0m\n",
      "\u001b[0m\u001b[1mazurerm_api_management_subscription.apim-api-subscription-openai: Refreshing state... [id=/subscriptions/dcef7009-6b94-4382-afdc-17eb160d709a/resourceGroups/rg-apim-genai-openai-350/providers/Microsoft.ApiManagement/service/apim-genai-basicv2-0fj9o-350/subscriptions/153dbda3-bfbd-4384-98ae-5901ecf9b7ce]\u001b[0m\n",
      "\u001b[0m\u001b[1mazurerm_role_assignment.Cognitive-Services-OpenAI-User: Refreshing state... [id=/subscriptions/dcef7009-6b94-4382-afdc-17eb160d709a/resourceGroups/rg-apim-genai-openai-350/providers/Microsoft.CognitiveServices/accounts/ai-services-0fj9o-350/providers/Microsoft.Authorization/roleAssignments/033f2cd2-3454-0cdd-0816-e8b07ca52aac]\u001b[0m\n",
      "\u001b[0m\u001b[1mazurerm_api_management_api.apim-api-openai: Refreshing state... [id=/subscriptions/dcef7009-6b94-4382-afdc-17eb160d709a/resourceGroups/rg-apim-genai-openai-350/providers/Microsoft.ApiManagement/service/apim-genai-basicv2-0fj9o-350/apis/apim-api-openai;rev=1]\u001b[0m\n",
      "\u001b[0m\u001b[1mazurerm_api_management_api_policy.apim-openai-policy-openai: Refreshing state... [id=/subscriptions/dcef7009-6b94-4382-afdc-17eb160d709a/resourceGroups/rg-apim-genai-openai-350/providers/Microsoft.ApiManagement/service/apim-genai-basicv2-0fj9o-350/apis/apim-api-openai]\u001b[0m\n",
      "\u001b[0m\u001b[1mazurerm_linux_function_app.function: Refreshing state... [id=/subscriptions/dcef7009-6b94-4382-afdc-17eb160d709a/resourceGroups/rg-apim-genai-openai-350/providers/Microsoft.Web/sites/function-0fj9o-350]\u001b[0m\n",
      "\u001b[0m\u001b[1mazurerm_api_management_api.apim-api-function: Refreshing state... [id=/subscriptions/dcef7009-6b94-4382-afdc-17eb160d709a/resourceGroups/rg-apim-genai-openai-350/providers/Microsoft.ApiManagement/service/apim-genai-basicv2-0fj9o-350/apis/apim-api-function;rev=1]\u001b[0m\n",
      "\u001b[0m\u001b[1mazurerm_api_management_api_operation.operation-azure-function-get: Refreshing state... [id=/subscriptions/dcef7009-6b94-4382-afdc-17eb160d709a/resourceGroups/rg-apim-genai-openai-350/providers/Microsoft.ApiManagement/service/apim-genai-basicv2-0fj9o-350/apis/apim-api-function/operations/api-demo-get]\u001b[0m\n",
      "\n",
      "Changes to Outputs:\n",
      "  \u001b[32m+\u001b[0m\u001b[0m function_app_url          = \"function-0fj9o-350.azurewebsites.net\"\n",
      "\n",
      "You can apply this plan to save these new output values to the Terraform\n",
      "state, without changing any real infrastructure.\n",
      "\u001b[0m\u001b[1m\u001b[32m\n",
      "Apply complete! Resources: 0 added, 0 changed, 0 destroyed.\n",
      "\u001b[0m\u001b[0m\u001b[1m\u001b[32m\n",
      "Outputs:\n",
      "\n",
      "\u001b[0mapim_resource_gateway_url = \"https://apim-genai-basicv2-0fj9o-350.azure-api.net\"\n",
      "apim_subscription_key = <sensitive>\n",
      "function_app_name = \"function-0fj9o-350\"\n",
      "function_app_url = \"function-0fj9o-350.azurewebsites.net\"\n"
     ]
    }
   ],
   "source": [
    "! $env:ARM_SUBSCRIPTION_ID=(az account show --query id -o tsv)   # if using Windows PowerShell\n",
    "# ! setenv ARM_SUBSCRIPTION_ID=$(az account show --query id -o tsv) # if using macOS or Linux\n",
    "\n",
    "! terraform init\n",
    "! terraform apply -auto-approve"
   ]
  },
  {
   "cell_type": "markdown",
   "metadata": {},
   "source": [
    "The following resources will be created:\n",
    "\n",
    "![](images/resources.png)"
   ]
  },
  {
   "cell_type": "markdown",
   "metadata": {},
   "source": [
    "### 2️⃣ Get the deployment outputs\n",
    "\n",
    "We are now at the stage where we only need to retrieve the gateway URL and the subscription before we are ready for testing."
   ]
  },
  {
   "cell_type": "code",
   "execution_count": 2,
   "metadata": {},
   "outputs": [
    {
     "name": "stdout",
     "output_type": "stream",
     "text": [
      "👉🏻 APIM Resource Gateway URL:  https://apim-genai-basicv2-0fj9o-350.azure-api.net\n",
      "👉🏻 APIM Subscription Key:  d1c7c2c42d004813b2849436657ba0b4\n",
      "👉🏻 Function App Name:  function-0fj9o-350\n",
      "👉🏻 Function App URL:  function-0fj9o-350.azurewebsites.net\n"
     ]
    }
   ],
   "source": [
    "apim_resource_gateway_url = ! terraform output -raw apim_resource_gateway_url\n",
    "apim_resource_gateway_url = apim_resource_gateway_url.n\n",
    "print(\"👉🏻 APIM Resource Gateway URL: \", apim_resource_gateway_url)\n",
    "\n",
    "apim_subscription_key = ! terraform output -raw apim_subscription_key\n",
    "apim_subscription_key = apim_subscription_key.n\n",
    "print(\"👉🏻 APIM Subscription Key: \", apim_subscription_key)\n",
    "\n",
    "function_app_name = ! terraform output -raw function_app_name\n",
    "function_app_name = function_app_name.n\n",
    "print(\"👉🏻 Function App Name: \", function_app_name)\n",
    "\n",
    "function_app_url = ! terraform output -raw function_app_url\n",
    "function_app_url = function_app_url.n\n",
    "print(\"👉🏻 Function App URL: \", function_app_url)\n",
    "\n",
    "openai_api_version = \"2024-10-21\"\n",
    "openai_model_name = \"gpt-4o\"\n",
    "openai_deployment_name = \"gpt-4o\""
   ]
  },
  {
   "cell_type": "markdown",
   "metadata": {},
   "source": [
    "### 3️⃣ Deploy the function\n",
    "\n",
    "Deploy the local function project to the function app resource previously created."
   ]
  },
  {
   "cell_type": "code",
   "execution_count": 14,
   "metadata": {},
   "outputs": [
    {
     "name": "stdout",
     "output_type": "stream",
     "text": [
      "Local python version '3.12.8' is different from the version expected for your deployed Function App. This may result in 'ModuleNotFound' errors in Azure Functions. Please create a Python Function App for version 3.12 or change the virtual environment on your local machine to match 'PYTHON|3.11'.\n",
      "Getting site publishing info...\n",
      "[2025-01-27T09:16:21.339Z] Starting the function app deployment...\n",
      "Creating archive for current directory...\n",
      "Performing remote build for functions project.\n",
      "\n",
      "Remote build in progress, please wait...\n",
      "Updating submodules.\n",
      "Preparing deployment for commit id 'aed2d6b9-b'.\n",
      "PreDeployment: context.CleanOutputPath False\n",
      "PreDeployment: context.OutputPath /home/site/wwwroot\n",
      "Repository path is /tmp/zipdeploy/extracted\n",
      "Running oryx build...\n",
      "Command: oryx build /tmp/zipdeploy/extracted -o /tmp/build/expressbuild --platform python --platform-version 3.11 -i /tmp/8dd3eb35774a695 -p packagedir=.python_packages/lib/site-packages\n",
      "Operation performed by Microsoft Oryx, https://github.com/Microsoft/Oryx\n",
      "You can report issues at https://github.com/Microsoft/Oryx/issues\n",
      "\n",
      "Oryx Version: 0.2.20250107.1+ef3fb2f9c490a4fbb1f76b5746cd4ba2ff0409f4, Commit: ef3fb2f9c490a4fbb1f76b5746cd4ba2ff0409f4, ReleaseTagName: 20250107.1\n",
      "\n",
      "Build Operation ID: 71ea4fc3631283b6\n",
      "Repository Commit : aed2d6b9-b585-4ef6-84bd-add43a9bb1a8\n",
      "OS Type           : bullseye\n",
      "Image Type        : githubactions\n",
      "\n",
      "Detecting platforms...\n",
      "Detected following platforms:\n",
      "  python: 3.11.11\n",
      "Version '3.11.11' of platform 'python' is not installed. Generating script to install it...\n",
      "\n",
      "Using intermediate directory '/tmp/8dd3eb35774a695'.\n",
      "\n",
      "Copying files to the intermediate directory...\n",
      "Done in 26 sec(s).\n",
      "\n",
      "Source directory     : /tmp/8dd3eb35774a695\n",
      "Destination directory: /tmp/build/expressbuild\n",
      "\n",
      "\n",
      "Downloading and extracting 'python' version '3.11.11' to '/tmp/oryx/platforms/python/3.11.11'...\n",
      "Detected image debian flavor: bullseye.\n",
      "Downloaded in 7 sec(s).\n",
      "Verifying checksum...\n",
      "Extracting contents...\n",
      "performing sha512 checksum for: python...\n",
      "Done in 46 sec(s).\n",
      "\n",
      "image detector file exists, platform is python..\n",
      "OS detector file exists, OS is bullseye..\n",
      "Python Version: /tmp/oryx/platforms/python/3.11.11/bin/python3.11\n",
      "Creating directory for command manifest file if it does not exist\n",
      "Removing existing manifest file\n",
      "\n",
      "Running pip install...\n",
      "Done in 5 sec(s).\n",
      "[09:18:19+0000] Collecting azure-functions\n",
      "[09:18:19+0000]   Downloading azure_functions-1.21.3-py3-none-any.whl (185 kB)\n",
      "[09:18:20+0000] Installing collected packages: azure-functions\n",
      "[09:18:21+0000] Successfully installed azure-functions-1.21.3\n",
      "WARNING: You are using pip version 21.2.4; however, version 25.0 is available.\n",
      "You should consider upgrading via the '/tmp/oryx/platforms/python/3.11.11/bin/python3.11 -m pip install --upgrade pip' command.\n",
      "Not a vso image, so not writing build commands\n",
      "Preparing output...\n",
      "\n",
      "Copying files to destination directory '/tmp/build/expressbuild'...\n",
      "Done in 18 sec(s).\n",
      "\n",
      "Removing existing manifest file\n",
      "Creating a manifest file...\n",
      "Manifest file created.\n",
      "Copying .ostype to manifest output directory.\n",
      "\n",
      "Done in 98 sec(s).\n",
      "Writing the artifacts to a Zip file\n",
      "Running post deployment command(s)...\n",
      "\n",
      "Generating summary of Oryx build\n",
      "Deployment Log file does not exist in /tmp/oryx-build.log\n",
      "The logfile at /tmp/oryx-build.log is empty. Unable to fetch the summary of build\n",
      "Triggering recycle (preview mode disabled).\n",
      "Deployment successful. deployer = Push-Deployer deploymentPath = Functions App ZipDeploy. Extract zip. Remote build.\n",
      "Remote build succeeded!\n"
     ]
    }
   ],
   "source": [
    "! func azure functionapp publish {function_app_name}"
   ]
  },
  {
   "cell_type": "markdown",
   "metadata": {},
   "source": [
    "### 🧪 Test the Function API\n",
    "\n",
    "Let's strat with testing the function API directly."
   ]
  },
  {
   "cell_type": "code",
   "execution_count": 3,
   "metadata": {},
   "outputs": [
    {
     "name": "stdout",
     "output_type": "stream",
     "text": [
      "location:  London\n",
      "unit:  celsius\n",
      "temperature:  22\n"
     ]
    }
   ],
   "source": [
    "# import os\n",
    "import json\n",
    "# import datetime\n",
    "import requests\n",
    "\n",
    "request = { \"location\": \"London\", \"unit\": \"celsius\" }\n",
    "url = f\"https://{function_app_url}/api/weather\"\n",
    "\n",
    "response = requests.post(url, json = request)\n",
    "if (response.status_code == 200):\n",
    "    data = json.loads(response.text)\n",
    "    print(\"location: \", data.get(\"location\"))\n",
    "    print(\"unit: \", data.get(\"unit\"))\n",
    "    print(\"temperature: \", data.get(\"temperature\"))\n",
    "else:\n",
    "    print(response.text)"
   ]
  },
  {
   "cell_type": "markdown",
   "metadata": {},
   "source": [
    "Now, let's test the function API through API Management."
   ]
  },
  {
   "cell_type": "code",
   "execution_count": 4,
   "metadata": {},
   "outputs": [
    {
     "name": "stdout",
     "output_type": "stream",
     "text": [
      "location:  London\n",
      "unit:  celsius\n",
      "temperature:  22\n"
     ]
    }
   ],
   "source": [
    "request = { \"location\": \"London\", \"unit\": \"celsius\" }\n",
    "url = apim_resource_gateway_url + \"/weather\"\n",
    "response = requests.post(url, headers = {'api-key':apim_subscription_key}, json = request)\n",
    "if (response.status_code == 200):\n",
    "    data = json.loads(response.text)\n",
    "    print(\"location: \", data.get(\"location\"))\n",
    "    print(\"unit: \", data.get(\"unit\"))\n",
    "    print(\"temperature: \", data.get(\"temperature\"))\n",
    "else:\n",
    "    print(response.text)"
   ]
  },
  {
   "cell_type": "markdown",
   "metadata": {},
   "source": [
    "### 3️⃣ 🧪 Test OpenAI function calling\n",
    "The following code was reused from the [Azure OpenAI documentation](https://learn.microsoft.com/azure/ai-services/openai/how-to/function-calling?tabs=non-streaming%2Cpython).\n",
    "\n",
    "At a high level you can break down working with functions into three steps:\n",
    "\n",
    "1) Call the chat completions API with your functions and the user’s input\n",
    "2) Use the model’s response to call your API or function\n",
    "3) Call the chat completions API again, including the response from your function to get a final response\n",
    "\n",
    "- Note: run ```pip install openai``` in a terminal before executing this step."
   ]
  },
  {
   "cell_type": "code",
   "execution_count": 5,
   "metadata": {},
   "outputs": [
    {
     "name": "stdout",
     "output_type": "stream",
     "text": [
      "▶️ Step 1: start a completion to identify the appropriate functions to invoke based on the prompt\n",
      " What's the weather like in London and its big sister cities?\n",
      "▶️ Step 2: call the functions\n",
      "{\"location\": \"London, UK\", \"unit\": \"celsius\", \"temperature\": 20}\n",
      "{\"location\": \"New York, NY\", \"unit\": \"fahrenheit\", \"temperature\": 20}\n",
      "{\"location\": \"Tokyo, Japan\", \"unit\": \"celsius\", \"temperature\": 20}\n",
      "{\"location\": \"Los Angeles, CA\", \"unit\": \"fahrenheit\", \"temperature\": 20}\n",
      "{\"location\": \"Shanghai, China\", \"unit\": \"celsius\", \"temperature\": 20}\n",
      "{\"location\": \"Hong Kong, China\", \"unit\": \"celsius\", \"temperature\": 20}\n",
      "▶️ Step 3: finish with a completion to anwser the user prompt using the function response\n",
      "Here is the current weather in London and its \"big sister\" cities:\n",
      "\n",
      "- **London, UK**: 20°C\n",
      "- **New York, NY**: 20°F\n",
      "- **Tokyo, Japan**: 20°C\n",
      "- **Los Angeles, CA**: 20°F\n",
      "- **Shanghai, China**: 20°C\n",
      "- **Hong Kong, China**: 20°C\n",
      "\n",
      "If you need more details or updates, feel free to ask!\n"
     ]
    }
   ],
   "source": [
    "from openai import AzureOpenAI\n",
    "import uuid\n",
    "\n",
    "prompt = \"What's the weather like in London and its big sister cities?\"\n",
    "\n",
    "client = AzureOpenAI(\n",
    "    azure_endpoint=apim_resource_gateway_url,\n",
    "    api_key=apim_subscription_key,\n",
    "    api_version=openai_api_version\n",
    ")\n",
    "\n",
    "# Example function hard coded to return the same weather\n",
    "# the local function calls the API\n",
    "def get_current_weather(location, unit):\n",
    "    request = { \"location\": location, \"unit\": unit }\n",
    "    url = apim_resource_gateway_url + \"/weather\"\n",
    "    response = requests.post(url, headers = {'api-key':apim_subscription_key}, json = request)\n",
    "    if (response.status_code == 200):\n",
    "        return response.text\n",
    "    else:\n",
    "        return json.dumps({\"location\": location, \"temperature\": \"unknown\"})\n",
    "\n",
    "# Step 1: send the conversation and available functions to the model\n",
    "messages = [{\"role\": \"user\", \"content\": prompt}]\n",
    "tools = [\n",
    "    {\n",
    "        \"type\": \"function\",\n",
    "        \"function\": {\n",
    "            \"name\": \"get_current_weather\",\n",
    "            \"description\": \"Get the current weather in a given location, using the local temperature measuring unit.\",\n",
    "            \"parameters\": {\n",
    "                \"type\": \"object\",\n",
    "                \"properties\": {\n",
    "                    \"location\": {\n",
    "                        \"type\": \"string\",\n",
    "                        \"description\": \"The city and state, e.g. San Francisco, CA\",\n",
    "                    },\n",
    "                    \"unit\": {\n",
    "                        \"type\": \"string\",\n",
    "                        \"description\": \"The temperature measuring unit, e.g. celsius for London or fahrenheit for US cities\",\n",
    "                        \"enum\": [\"celsius\", \"fahrenheit\"]\n",
    "                    },\n",
    "                },\n",
    "                \"required\": [\"location\", \"unit\"],\n",
    "            },\n",
    "        },\n",
    "    }\n",
    "]\n",
    "print(\"▶️ Step 1: start a completion to identify the appropriate functions to invoke based on the prompt\\n\", prompt)\n",
    "response = client.chat.completions.create(\n",
    "    model=openai_deployment_name,\n",
    "    messages=messages,\n",
    "    tools=tools,\n",
    "    tool_choice=\"auto\",  # auto is default, but we'll be explicit\n",
    ")\n",
    "response_message = response.choices[0].message\n",
    "tool_calls = response_message.tool_calls\n",
    "if tool_calls:\n",
    "    # Step 2: call the function\n",
    "    # Note: the JSON response may not always be valid; be sure to handle errors\n",
    "    available_functions = {\n",
    "        \"get_current_weather\": get_current_weather,\n",
    "    }  # only one function in this example, but you can have multiple\n",
    "    messages.append(response_message)  # extend conversation with assistant's reply\n",
    "    # send the info for each function call and function response to the model\n",
    "    print(\"▶️ Step 2: call the functions\")\n",
    "    for tool_call in tool_calls:\n",
    "        function_name = tool_call.function.name\n",
    "        function_to_call = available_functions[function_name]\n",
    "        function_args = json.loads(tool_call.function.arguments)\n",
    "        function_response = function_to_call(\n",
    "            location=function_args.get(\"location\"),\n",
    "            unit=function_args.get(\"unit\"),\n",
    "        )\n",
    "        print(function_response)\n",
    "        messages.append(\n",
    "            {\n",
    "                \"tool_call_id\": tool_call.id,\n",
    "                \"role\": \"tool\",\n",
    "                \"name\": function_name,\n",
    "                \"content\": function_response,\n",
    "            }\n",
    "        )  # extend conversation with function response\n",
    "    print(\"▶️ Step 3: finish with a completion to anwser the user prompt using the function response\")\n",
    "    second_response = client.chat.completions.create(\n",
    "        model=openai_deployment_name,\n",
    "        messages=messages\n",
    "    )  # get a new response from the model where it can see the function response\n",
    "    print(second_response.choices[0].message.content)"
   ]
  }
 ],
 "metadata": {
  "kernelspec": {
   "display_name": "Python 3",
   "language": "python",
   "name": "python3"
  },
  "language_info": {
   "codemirror_mode": {
    "name": "ipython",
    "version": 3
   },
   "file_extension": ".py",
   "mimetype": "text/x-python",
   "name": "python",
   "nbconvert_exporter": "python",
   "pygments_lexer": "ipython3",
   "version": "3.12.8"
  }
 },
 "nbformat": 4,
 "nbformat_minor": 2
}
