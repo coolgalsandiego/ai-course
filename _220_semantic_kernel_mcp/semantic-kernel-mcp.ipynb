{
 "cells": [
  {
   "cell_type": "markdown",
   "metadata": {},
   "source": [
    "# MCP with Semantic Kernel\n",
    "\n",
    "The `Model Context Protocol` (`MCP`) is an open protocol that enables seamless integration between `LLM` applications and external data sources and tools. Whether you're building an AI-powered IDE, enhancing a chat interface, or creating custom AI workflows, `MCP` provides a standardized way to connect LLMs with the context they need.\n",
    "\n",
    "General architecture\n",
    "At its core, MCP follows a client-server architecture where a host application can connect to multiple servers:\n",
    "\n",
    "[](images/mcp-architecture.png)\n",
    "\n",
    "* MCP Hosts: Programs like Claude Desktop, IDEs, or AI tools that want to access data through MCP\n",
    "* MCP Clients: Protocol clients that maintain 1:1 connections with servers\n",
    "* MCP Servers: Lightweight programs that each expose specific capabilities through the standardized Model Context Protocol\n",
    "* Local Data Sources: Your computer’s files, databases, and services that MCP servers can securely access\n",
    "* Remote Services: External systems available over the internet (e.g., through APIs) that MCP servers can connect to"
   ]
  },
  {
   "cell_type": "code",
   "execution_count": null,
   "metadata": {
    "vscode": {
     "languageId": "plaintext"
    }
   },
   "outputs": [],
   "source": []
  },
  {
   "cell_type": "code",
   "execution_count": null,
   "metadata": {
    "vscode": {
     "languageId": "plaintext"
    }
   },
   "outputs": [],
   "source": []
  }
 ],
 "metadata": {
  "language_info": {
   "name": "python"
  }
 },
 "nbformat": 4,
 "nbformat_minor": 2
}
