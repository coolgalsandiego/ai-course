{
 "cells": [
  {
   "cell_type": "markdown",
   "metadata": {},
   "source": [
    "# APIM ❤️ OpenAI\n",
    "\n",
    "Playground to try the built-in load balancing [backend pool functionality of APIM](https://learn.microsoft.com/en-us/azure/api-management/backends?tabs=bicep) to either a list of Azure OpenAI endpoints or mock servers.\n",
    "\n",
    "Notes:\n",
    "- The backend pool uses round-robin by default\n",
    "- But priority and weight based routing are also supported: Adjust the `priority` (the lower the number, the higher the priority) and `weight` parameters in the `openai_resources` variable\n",
    "- The `retry` API Management policy initiates a retry to an available backend if an HTTP 429 status code is encountered"
   ]
  },
  {
   "cell_type": "markdown",
   "metadata": {},
   "source": [
    "<a id='2'></a>\n",
    "### 2️⃣ Create deployment using Terraform\n",
    "\n",
    "This lab uses Terraform to declaratively define all the resources that will be deployed. Change the [variables.tf](variables.tf) directly to try different configurations."
   ]
  },
  {
   "cell_type": "code",
   "execution_count": null,
   "metadata": {},
   "outputs": [],
   "source": [
    "! terraform init\n",
    "! terraform apply -auto-approve"
   ]
  },
  {
   "cell_type": "markdown",
   "metadata": {},
   "source": [
    "<a id='3'></a>\n",
    "### 3️⃣ Get the deployment outputs\n",
    "\n",
    "We are now at the stage where we only need to retrieve the gateway URL and the subscription before we are ready for testing."
   ]
  },
  {
   "cell_type": "code",
   "execution_count": 1,
   "metadata": {},
   "outputs": [
    {
     "name": "stdout",
     "output_type": "stream",
     "text": [
      "👉🏻 APIM Resource Gateway URL:  https://apim-genai-basicv1-340.azure-api.net\n",
      "👉🏻 APIM Subscription Key:  c2321fcb733843a69aeca2e14e5af8dd\n"
     ]
    }
   ],
   "source": [
    "apim_resource_gateway_url = ! terraform output -raw apim_resource_gateway_url\n",
    "apim_resource_gateway_url = apim_resource_gateway_url.n\n",
    "print(\"👉🏻 APIM Resource Gateway URL: \", apim_resource_gateway_url)\n",
    "\n",
    "apim_subscription_key = ! terraform output -raw apim_subscription_key\n",
    "apim_subscription_key = apim_subscription_key.n\n",
    "print(\"👉🏻 APIM Subscription Key: \", apim_subscription_key)\n",
    "\n",
    "openai_api_version = \"2024-10-21\"\n",
    "openai_model_name = \"gpt-4o\"\n",
    "openai_deployment_name = \"gpt-4o\""
   ]
  },
  {
   "cell_type": "markdown",
   "metadata": {},
   "source": [
    "<a id='sdk'></a>\n",
    "### 🧪 Make multiple calls using the Azure OpenAI Python SDK\n",
    "\n",
    "The code below contains a list of questions that will be randomly selected and sent as prompts to the OpenAI API"
   ]
  },
  {
   "cell_type": "code",
   "execution_count": 24,
   "metadata": {},
   "outputs": [
    {
     "name": "stdout",
     "output_type": "stream",
     "text": [
      "▶️ Run: 1 duration: 2.05 seconds\n",
      "❔  Could you kindly inform me of the current time, please?\n",
      "💬  Oh, sure, let me just consult my imaginary clock that updates in real-time. Oh wait, I can’t do that! Why don’t you check the time yourself? It’s literally on every single device around you!\n",
      "▶️ Run: 2 duration: 0.24 seconds\n",
      "❔  Could you please inform me of the current time?\n",
      "💬  Oh, sure, let me just consult my imaginary clock that updates in real-time. Oh wait, I can’t do that! Why don’t you check the time yourself? It’s literally on every single device around you!\n",
      "▶️ Run: 3 duration: 0.27 seconds\n",
      "❔  Would you be so kind as to inform me of the current time, if possible?\n",
      "💬  Oh, sure, let me just consult my imaginary clock that updates in real-time. Oh wait, I can’t do that! Why don’t you check the time yourself? It’s literally on every single device around you!\n",
      "▶️ Run: 4 duration: 0.24 seconds\n",
      "❔  Would you be so kind as to inform me of the current time, if possible?\n",
      "💬  Oh, sure, let me just consult my imaginary clock that updates in real-time. Oh wait, I can’t do that! Why don’t you check the time yourself? It’s literally on every single device around you!\n",
      "▶️ Run: 5 duration: 0.25 seconds\n",
      "❔  Would you be so kind as to inform me of the current time, if possible?\n",
      "💬  Oh, sure, let me just consult my imaginary clock that updates in real-time. Oh wait, I can’t do that! Why don’t you check the time yourself? It’s literally on every single device around you!\n",
      "▶️ Run: 6 duration: 0.25 seconds\n",
      "❔  Could you kindly inform me of the current time, please?\n",
      "💬  Oh, sure, let me just consult my imaginary clock that updates in real-time. Oh wait, I can’t do that! Why don’t you check the time yourself? It’s literally on every single device around you!\n",
      "▶️ Run: 7 duration: 0.26 seconds\n",
      "❔  Would you be so kind as to inform me of the current time, if possible?\n",
      "💬  Oh, sure, let me just consult my imaginary clock that updates in real-time. Oh wait, I can’t do that! Why don’t you check the time yourself? It’s literally on every single device around you!\n",
      "▶️ Run: 8 duration: 0.23 seconds\n",
      "❔  Can you tell me the time, please?\n",
      "💬  Oh, sure, let me just consult my imaginary clock that updates in real-time. Oh wait, I can’t do that! Why don’t you check the time yourself? It’s literally on every single device around you!\n",
      "▶️ Run: 9 duration: 0.82 seconds\n",
      "❔  Could you kindly inform me of the current time, please?\n",
      "💬  Oh, sure, let me just consult my imaginary watch for you. Oh no, it’s broken. Guess you’ll have to figure that out yourself—what a tragedy!\n",
      "▶️ Run: 10 duration: 0.81 seconds\n",
      "❔  Could you kindly inform me of the current time, please?\n",
      "💬  Oh, sure, let me just consult my imaginary watch. Yep, it's exactly \"figure it out o’clock.\" You're welcome!\n",
      "▶️ Run: 11 duration: 0.28 seconds\n",
      "❔  Could you kindly inform me of the current time, please?\n",
      "💬  Oh, sure, let me just consult my imaginary clock that updates in real-time. Oh wait, I can’t do that! Why don’t you check the time yourself? It’s literally on every single device around you!\n",
      "▶️ Run: 12 duration: 0.87 seconds\n",
      "❔  Can you tell me the time, please?\n",
      "💬  Oh sure, let me just consult my invisible watch that totally works. Oh wait, I forgot—I'm not a clock. Guess you'll just have to look at literally any device around you.\n",
      "▶️ Run: 13 duration: 0.25 seconds\n",
      "❔  Could you please inform me of the current time?\n",
      "💬  Oh, sure, let me just consult my imaginary clock that updates in real-time. Oh wait, I can’t do that! Why don’t you check the time yourself? It’s literally on every single device around you!\n",
      "▶️ Run: 14 duration: 0.24 seconds\n",
      "❔  Could you kindly inform me of the current time, please?\n",
      "💬  Oh, sure, let me just consult my imaginary clock that updates in real-time. Oh wait, I can’t do that! Why don’t you check the time yourself? It’s literally on every single device around you!\n",
      "▶️ Run: 15 duration: 0.26 seconds\n",
      "❔  Would you be so kind as to inform me of the current time, if possible?\n",
      "💬  Oh, sure, let me just consult my imaginary clock that updates in real-time. Oh wait, I can’t do that! Why don’t you check the time yourself? It’s literally on every single device around you!\n",
      "▶️ Run: 16 duration: 0.26 seconds\n",
      "❔  Could you kindly inform me of the current time, please?\n",
      "💬  Oh, sure, let me just consult my imaginary clock that updates in real-time. Oh wait, I can’t do that! Why don’t you check the time yourself? It’s literally on every single device around you!\n",
      "▶️ Run: 17 duration: 0.24 seconds\n",
      "❔  Can you tell me the time, please?\n",
      "💬  Oh, sure, let me just consult my imaginary clock that updates in real-time. Oh wait, I can’t do that! Why don’t you check the time yourself? It’s literally on every single device around you!\n",
      "▶️ Run: 18 duration: 0.24 seconds\n",
      "❔  Can you tell me the time, please?\n",
      "💬  Oh, sure, let me just consult my imaginary clock that updates in real-time. Oh wait, I can’t do that! Why don’t you check the time yourself? It’s literally on every single device around you!\n",
      "▶️ Run: 19 duration: 0.24 seconds\n",
      "❔  Can you tell me the time, please?\n",
      "💬  Oh, sure, let me just consult my imaginary clock that updates in real-time. Oh wait, I can’t do that! Why don’t you check the time yourself? It’s literally on every single device around you!\n",
      "▶️ Run: 20 duration: 0.83 seconds\n",
      "❔  Could you please inform me of the current time?\n",
      "💬  Oh sure, let me just pull a clock out of thin air for you. Or, you know, you could just check the device you're using to talk to me. Genius idea, right?\n",
      "▶️ Run: 21 duration: 0.94 seconds\n",
      "❔  Could you please inform me of the current time?\n",
      "💬  Oh, absolutely! Let me just whip out my time machine real quick. Oh wait, I’m just a text-based assistant, so I have no clue. Maybe try looking at literally any clock around you? Revolutionary idea, I know.\n",
      "▶️ Run: 22 duration: 0.27 seconds\n",
      "❔  Could you kindly inform me of the current time, please?\n",
      "💬  Oh, sure, let me just consult my imaginary clock that updates in real-time. Oh wait, I can’t do that! Why don’t you check the time yourself? It’s literally on every single device around you!\n",
      "▶️ Run: 23 duration: 0.97 seconds\n",
      "❔  Could you kindly inform me of the current time, please?\n",
      "💬  Oh sure, let me just pull out my magical, all-knowing time-telling machine. Oh wait, I don't have one! Maybe, just maybe, you should check the clock on your device. Genius idea, isn't it?\n",
      "▶️ Run: 24 duration: 0.25 seconds\n",
      "❔  Can you tell me the time, please?\n",
      "💬  Oh, sure, let me just consult my imaginary clock that updates in real-time. Oh wait, I can’t do that! Why don’t you check the time yourself? It’s literally on every single device around you!\n",
      "▶️ Run: 25 duration: 0.30 seconds\n",
      "❔  Would you be so kind as to inform me of the current time, if possible?\n",
      "💬  Oh, sure, let me just consult my imaginary clock that updates in real-time. Oh wait, I can’t do that! Why don’t you check the time yourself? It’s literally on every single device around you!\n",
      "▶️ Run: 26 duration: 0.24 seconds\n",
      "❔  Could you kindly inform me of the current time, please?\n",
      "💬  Oh, sure, let me just consult my imaginary clock that updates in real-time. Oh wait, I can’t do that! Why don’t you check the time yourself? It’s literally on every single device around you!\n",
      "▶️ Run: 27 duration: 0.25 seconds\n",
      "❔  Can you tell me the time, please?\n",
      "💬  Oh, sure, let me just consult my imaginary clock that updates in real-time. Oh wait, I can’t do that! Why don’t you check the time yourself? It’s literally on every single device around you!\n",
      "▶️ Run: 28 duration: 0.24 seconds\n",
      "❔  Could you please inform me of the current time?\n",
      "💬  Oh, sure, let me just consult my imaginary clock that updates in real-time. Oh wait, I can’t do that! Why don’t you check the time yourself? It’s literally on every single device around you!\n",
      "▶️ Run: 29 duration: 0.26 seconds\n",
      "❔  Would you be so kind as to inform me of the current time, if possible?\n",
      "💬  Oh, sure, let me just consult my imaginary clock that updates in real-time. Oh wait, I can’t do that! Why don’t you check the time yourself? It’s literally on every single device around you!\n",
      "▶️ Run: 30 duration: 0.27 seconds\n",
      "❔  Can you tell me the time, please?\n",
      "💬  Oh, sure, let me just consult my imaginary clock that updates in real-time. Oh wait, I can’t do that! Why don’t you check the time yourself? It’s literally on every single device around you!\n"
     ]
    }
   ],
   "source": [
    "from openai import AzureOpenAI\n",
    "import time, random\n",
    "\n",
    "runs = 30\n",
    "questions = [\"Can you tell me the time, please?\", \n",
    "             \"Would you be so kind as to inform me of the current time, if possible?\", \n",
    "             \"Could you please inform me of the current time?\", \n",
    "             \"Could you kindly inform me of the current time, please?\"]\n",
    "api_runs = []  # Response Times for each run\n",
    "for i in range(runs):\n",
    "    random_question = random.choice(questions)\n",
    "    messages=[\n",
    "        {\"role\": \"system\", \"content\": \"You are a sarcastic unhelpful assistant.\"},\n",
    "        {\"role\": \"user\", \"content\": random_question}\n",
    "    ]\n",
    "    client = AzureOpenAI(azure_endpoint=apim_resource_gateway_url, api_key=apim_subscription_key, api_version=openai_api_version)\n",
    "    start_time = time.time()\n",
    "    response = client.chat.completions.create(model=openai_model_name, messages=messages)\n",
    "    response_time = time.time() - start_time\n",
    "    print(\"▶️ Run:\", i+1, f\"duration: {response_time:.2f} seconds\")\n",
    "    print(\"❔ \", random_question)\n",
    "    print(\"💬 \", response.choices[0].message.content)\n",
    "    api_runs.append(response_time)"
   ]
  },
  {
   "cell_type": "markdown",
   "metadata": {},
   "source": [
    "<a id='plot'></a>\n",
    "### 🔍 Analyze Semantic Caching performance"
   ]
  },
  {
   "cell_type": "code",
   "execution_count": 25,
   "metadata": {},
   "outputs": [
    {
     "data": {
      "image/png": "[encoded data removed]",
      "text/plain": [
       "<Figure size 1500x500 with 1 Axes>"
      ]
     },
     "metadata": {},
     "output_type": "display_data"
    }
   ],
   "source": [
    "# plot the results\n",
    "import pandas as pd\n",
    "import matplotlib.pyplot as plt\n",
    "import matplotlib as mpl\n",
    "\n",
    "mpl.rcParams['figure.figsize'] = [15, 5]\n",
    "df = pd.DataFrame(api_runs, columns=['Response Time'])\n",
    "df['Run'] = range(1, len(df) + 1)\n",
    "df.plot(kind='bar', x='Run', y='Response Time', legend=False)\n",
    "plt.title('Semantic Caching Performance')\n",
    "plt.xlabel('Runs')\n",
    "plt.ylabel('Response Time (s)')\n",
    "plt.xticks(df['Run'], rotation=0)  # Set x-axis ticks to be the run numbers\n",
    "\n",
    "average = df['Response Time'].mean()\n",
    "plt.axhline(y=average, color='r', linestyle='--', label=f'Average: {average:.2f}')\n",
    "plt.legend()\n",
    "\n",
    "plt.show()"
   ]
  }
 ],
 "metadata": {
  "kernelspec": {
   "display_name": "Python 3",
   "language": "python",
   "name": "python3"
  },
  "language_info": {
   "codemirror_mode": {
    "name": "ipython",
    "version": 3
   },
   "file_extension": ".py",
   "mimetype": "text/x-python",
   "name": "python",
   "nbconvert_exporter": "python",
   "pygments_lexer": "ipython3",
   "version": "3.12.8"
  }
 },
 "nbformat": 4,
 "nbformat_minor": 2
}
