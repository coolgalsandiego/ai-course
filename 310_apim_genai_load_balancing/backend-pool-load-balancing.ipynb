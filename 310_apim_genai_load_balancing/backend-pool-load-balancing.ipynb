{
 "cells": [
  {
   "cell_type": "markdown",
   "metadata": {},
   "source": [
    "# APIM ❤️ OpenAI\n",
    "\n",
    "## Backend pool Load Balancing lab\n",
    "![flow](images/backend-pool-load-balancing.gif)\n",
    "\n",
    "Playground to try the built-in load balancing [backend pool functionality of APIM](https://learn.microsoft.com/en-us/azure/api-management/backends?tabs=bicep) to either a list of Azure OpenAI endpoints or mock servers.\n",
    "\n",
    "Notes:\n",
    "- The backend pool uses round-robin by default\n",
    "- But priority and weight based routing are also supported: Adjust the `priority` (the lower the number, the higher the priority) and `weight` parameters in the `openai_resources` variable\n",
    "- The `retry` API Management policy initiates a retry to an available backend if an HTTP 429 status code is encountered\n",
    "\n",
    "### Result\n",
    "![result](images/result.png)"
   ]
  },
  {
   "cell_type": "markdown",
   "metadata": {},
   "source": [
    "<a id='2'></a>\n",
    "### 2️⃣ Create deployment using Terraform\n",
    "\n",
    "This lab uses Terraform to declaratively define all the resources that will be deployed. Change the [variables.tf](variables.tf) directly to try different configurations."
   ]
  },
  {
   "cell_type": "code",
   "execution_count": null,
   "metadata": {},
   "outputs": [],
   "source": [
    "! terraform init\n",
    "! terraform apply -auto-approve"
   ]
  },
  {
   "cell_type": "markdown",
   "metadata": {},
   "source": [
    "<a id='3'></a>\n",
    "### 3️⃣ Get the deployment outputs\n",
    "\n",
    "We are now at the stage where we only need to retrieve the gateway URL and the subscription before we are ready for testing."
   ]
  },
  {
   "cell_type": "code",
   "execution_count": 1,
   "metadata": {},
   "outputs": [
    {
     "name": "stdout",
     "output_type": "stream",
     "text": [
      "👉🏻 APIM Resource Gateway URL:  https://apim-genai-310.azure-api.net\n",
      "👉🏻 APIM Subscription Key:  6d64e9754cfa47b5bdf635cafd751900\n"
     ]
    }
   ],
   "source": [
    "apim_resource_gateway_url = ! terraform output -raw apim_resource_gateway_url\n",
    "apim_resource_gateway_url = apim_resource_gateway_url.n\n",
    "print(\"👉🏻 APIM Resource Gateway URL: \", apim_resource_gateway_url)\n",
    "\n",
    "apim_subscription_key = ! terraform output -raw apim_subscription_key\n",
    "apim_subscription_key = apim_subscription_key.n\n",
    "print(\"👉🏻 APIM Subscription Key: \", apim_subscription_key)\n",
    "\n",
    "openai_api_version = \"2024-10-21\"\n",
    "openai_model_name = \"gpt-4o\"\n",
    "openai_deployment_name = \"gpt-4o\""
   ]
  },
  {
   "cell_type": "markdown",
   "metadata": {},
   "source": [
    "<a id='requests'></a>\n",
    "### 🧪 Test the API using a direct HTTP call\n",
    "Requests is an elegant and simple HTTP library for Python that will be used here to make raw API requests and inspect the responses. \n",
    "\n",
    "You will not see HTTP 429s returned as API Management's `retry` policy will select an available backend. If no backends are viable, an HTTP 503 will be returned.\n",
    "\n",
    "Tip: Use the [tracing tool](../../tools/tracing.ipynb) to track the behavior of the backend pool.\n",
    "\n",
    ">If you get `Acess denied` response, then you need to validate the `APIM` subscription key on the Azure portal."
   ]
  },
  {
   "cell_type": "code",
   "execution_count": 2,
   "metadata": {},
   "outputs": [
    {
     "name": "stdout",
     "output_type": "stream",
     "text": [
      "▶️ Run: 1 / 20\n",
      "⌚ 12.53 seconds\n",
      "Response status: \u001b[1;31m401 - Access Denied\u001b[0m\n",
      "Response headers: {'Content-Length': '143', 'Content-Type': 'application/json', 'Date': 'Wed, 01 Jan 2025 12:00:54 GMT', 'Cache-Control': 'private', 'WWW-Authenticate': 'AzureApiManagementKey realm=\"https://apim-genai-310.azure-api.net/openai\",name=\"api-key\",type=\"header\"'}\n",
      "{ \"statusCode\": 401, \"message\": \"Access denied due to invalid subscription key. Make sure to provide a valid key for an active subscription.\" }\n",
      "▶️ Run: 2 / 20\n",
      "⌚ 0.25 seconds\n",
      "Response status: \u001b[1;31m401 - Access Denied\u001b[0m\n",
      "Response headers: {'Content-Length': '143', 'Content-Type': 'application/json', 'Date': 'Wed, 01 Jan 2025 12:00:54 GMT', 'Cache-Control': 'private', 'WWW-Authenticate': 'AzureApiManagementKey realm=\"https://apim-genai-310.azure-api.net/openai\",name=\"api-key\",type=\"header\"'}\n",
      "{ \"statusCode\": 401, \"message\": \"Access denied due to invalid subscription key. Make sure to provide a valid key for an active subscription.\" }\n",
      "▶️ Run: 3 / 20\n",
      "⌚ 0.21 seconds\n",
      "Response status: \u001b[1;31m401 - Access Denied\u001b[0m\n",
      "Response headers: {'Content-Length': '143', 'Content-Type': 'application/json', 'Date': 'Wed, 01 Jan 2025 12:00:54 GMT', 'Cache-Control': 'private', 'WWW-Authenticate': 'AzureApiManagementKey realm=\"https://apim-genai-310.azure-api.net/openai\",name=\"api-key\",type=\"header\"'}\n",
      "{ \"statusCode\": 401, \"message\": \"Access denied due to invalid subscription key. Make sure to provide a valid key for an active subscription.\" }\n",
      "▶️ Run: 4 / 20\n",
      "⌚ 0.20 seconds\n",
      "Response status: \u001b[1;31m401 - Access Denied\u001b[0m\n",
      "Response headers: {'Content-Length': '143', 'Content-Type': 'application/json', 'Date': 'Wed, 01 Jan 2025 12:00:55 GMT', 'Cache-Control': 'private', 'WWW-Authenticate': 'AzureApiManagementKey realm=\"https://apim-genai-310.azure-api.net/openai\",name=\"api-key\",type=\"header\"'}\n",
      "{ \"statusCode\": 401, \"message\": \"Access denied due to invalid subscription key. Make sure to provide a valid key for an active subscription.\" }\n",
      "▶️ Run: 5 / 20\n",
      "⌚ 0.19 seconds\n",
      "Response status: \u001b[1;31m401 - Access Denied\u001b[0m\n",
      "Response headers: {'Content-Length': '143', 'Content-Type': 'application/json', 'Date': 'Wed, 01 Jan 2025 12:00:55 GMT', 'Cache-Control': 'private', 'WWW-Authenticate': 'AzureApiManagementKey realm=\"https://apim-genai-310.azure-api.net/openai\",name=\"api-key\",type=\"header\"'}\n",
      "{ \"statusCode\": 401, \"message\": \"Access denied due to invalid subscription key. Make sure to provide a valid key for an active subscription.\" }\n",
      "▶️ Run: 6 / 20\n",
      "⌚ 0.21 seconds\n",
      "Response status: \u001b[1;31m401 - Access Denied\u001b[0m\n",
      "Response headers: {'Content-Length': '143', 'Content-Type': 'application/json', 'Date': 'Wed, 01 Jan 2025 12:00:55 GMT', 'Cache-Control': 'private', 'WWW-Authenticate': 'AzureApiManagementKey realm=\"https://apim-genai-310.azure-api.net/openai\",name=\"api-key\",type=\"header\"'}\n",
      "{ \"statusCode\": 401, \"message\": \"Access denied due to invalid subscription key. Make sure to provide a valid key for an active subscription.\" }\n",
      "▶️ Run: 7 / 20\n",
      "⌚ 0.20 seconds\n",
      "Response status: \u001b[1;31m401 - Access Denied\u001b[0m\n",
      "Response headers: {'Content-Length': '143', 'Content-Type': 'application/json', 'Date': 'Wed, 01 Jan 2025 12:00:57 GMT', 'Cache-Control': 'private', 'WWW-Authenticate': 'AzureApiManagementKey realm=\"https://apim-genai-310.azure-api.net/openai\",name=\"api-key\",type=\"header\"'}\n",
      "{ \"statusCode\": 401, \"message\": \"Access denied due to invalid subscription key. Make sure to provide a valid key for an active subscription.\" }\n",
      "▶️ Run: 8 / 20\n",
      "⌚ 0.19 seconds\n",
      "Response status: \u001b[1;31m401 - Access Denied\u001b[0m\n",
      "Response headers: {'Content-Length': '143', 'Content-Type': 'application/json', 'Date': 'Wed, 01 Jan 2025 12:00:57 GMT', 'Cache-Control': 'private', 'WWW-Authenticate': 'AzureApiManagementKey realm=\"https://apim-genai-310.azure-api.net/openai\",name=\"api-key\",type=\"header\"'}\n",
      "{ \"statusCode\": 401, \"message\": \"Access denied due to invalid subscription key. Make sure to provide a valid key for an active subscription.\" }\n",
      "▶️ Run: 9 / 20\n",
      "⌚ 0.20 seconds\n",
      "Response status: \u001b[1;31m401 - Access Denied\u001b[0m\n",
      "Response headers: {'Content-Length': '143', 'Content-Type': 'application/json', 'Date': 'Wed, 01 Jan 2025 12:00:57 GMT', 'Cache-Control': 'private', 'WWW-Authenticate': 'AzureApiManagementKey realm=\"https://apim-genai-310.azure-api.net/openai\",name=\"api-key\",type=\"header\"'}\n",
      "{ \"statusCode\": 401, \"message\": \"Access denied due to invalid subscription key. Make sure to provide a valid key for an active subscription.\" }\n",
      "▶️ Run: 10 / 20\n",
      "⌚ 0.21 seconds\n",
      "Response status: \u001b[1;31m401 - Access Denied\u001b[0m\n",
      "Response headers: {'Content-Length': '143', 'Content-Type': 'application/json', 'Date': 'Wed, 01 Jan 2025 12:00:58 GMT', 'Cache-Control': 'private', 'WWW-Authenticate': 'AzureApiManagementKey realm=\"https://apim-genai-310.azure-api.net/openai\",name=\"api-key\",type=\"header\"'}\n",
      "{ \"statusCode\": 401, \"message\": \"Access denied due to invalid subscription key. Make sure to provide a valid key for an active subscription.\" }\n",
      "▶️ Run: 11 / 20\n",
      "⌚ 0.22 seconds\n",
      "Response status: \u001b[1;31m401 - Access Denied\u001b[0m\n",
      "Response headers: {'Content-Length': '143', 'Content-Type': 'application/json', 'Date': 'Wed, 01 Jan 2025 12:00:58 GMT', 'Cache-Control': 'private', 'WWW-Authenticate': 'AzureApiManagementKey realm=\"https://apim-genai-310.azure-api.net/openai\",name=\"api-key\",type=\"header\"'}\n",
      "{ \"statusCode\": 401, \"message\": \"Access denied due to invalid subscription key. Make sure to provide a valid key for an active subscription.\" }\n",
      "▶️ Run: 12 / 20\n",
      "⌚ 0.21 seconds\n",
      "Response status: \u001b[1;31m401 - Access Denied\u001b[0m\n",
      "Response headers: {'Content-Length': '143', 'Content-Type': 'application/json', 'Date': 'Wed, 01 Jan 2025 12:00:58 GMT', 'Cache-Control': 'private', 'WWW-Authenticate': 'AzureApiManagementKey realm=\"https://apim-genai-310.azure-api.net/openai\",name=\"api-key\",type=\"header\"'}\n",
      "{ \"statusCode\": 401, \"message\": \"Access denied due to invalid subscription key. Make sure to provide a valid key for an active subscription.\" }\n",
      "▶️ Run: 13 / 20\n",
      "⌚ 0.18 seconds\n",
      "Response status: \u001b[1;31m401 - Access Denied\u001b[0m\n",
      "Response headers: {'Content-Length': '143', 'Content-Type': 'application/json', 'Date': 'Wed, 01 Jan 2025 12:00:59 GMT', 'Cache-Control': 'private', 'WWW-Authenticate': 'AzureApiManagementKey realm=\"https://apim-genai-310.azure-api.net/openai\",name=\"api-key\",type=\"header\"'}\n",
      "{ \"statusCode\": 401, \"message\": \"Access denied due to invalid subscription key. Make sure to provide a valid key for an active subscription.\" }\n",
      "▶️ Run: 14 / 20\n",
      "⌚ 0.19 seconds\n",
      "Response status: \u001b[1;31m401 - Access Denied\u001b[0m\n",
      "Response headers: {'Content-Length': '143', 'Content-Type': 'application/json', 'Date': 'Wed, 01 Jan 2025 12:00:59 GMT', 'Cache-Control': 'private', 'WWW-Authenticate': 'AzureApiManagementKey realm=\"https://apim-genai-310.azure-api.net/openai\",name=\"api-key\",type=\"header\"'}\n",
      "{ \"statusCode\": 401, \"message\": \"Access denied due to invalid subscription key. Make sure to provide a valid key for an active subscription.\" }\n",
      "▶️ Run: 15 / 20\n",
      "⌚ 0.20 seconds\n",
      "Response status: \u001b[1;31m401 - Access Denied\u001b[0m\n",
      "Response headers: {'Content-Length': '143', 'Content-Type': 'application/json', 'Date': 'Wed, 01 Jan 2025 12:00:59 GMT', 'Cache-Control': 'private', 'WWW-Authenticate': 'AzureApiManagementKey realm=\"https://apim-genai-310.azure-api.net/openai\",name=\"api-key\",type=\"header\"'}\n",
      "{ \"statusCode\": 401, \"message\": \"Access denied due to invalid subscription key. Make sure to provide a valid key for an active subscription.\" }\n",
      "▶️ Run: 16 / 20\n",
      "⌚ 0.22 seconds\n",
      "Response status: \u001b[1;31m401 - Access Denied\u001b[0m\n",
      "Response headers: {'Content-Length': '143', 'Content-Type': 'application/json', 'Date': 'Wed, 01 Jan 2025 12:01:00 GMT', 'Cache-Control': 'private', 'WWW-Authenticate': 'AzureApiManagementKey realm=\"https://apim-genai-310.azure-api.net/openai\",name=\"api-key\",type=\"header\"'}\n",
      "{ \"statusCode\": 401, \"message\": \"Access denied due to invalid subscription key. Make sure to provide a valid key for an active subscription.\" }\n",
      "▶️ Run: 17 / 20\n",
      "⌚ 0.20 seconds\n",
      "Response status: \u001b[1;31m401 - Access Denied\u001b[0m\n",
      "Response headers: {'Content-Length': '143', 'Content-Type': 'application/json', 'Date': 'Wed, 01 Jan 2025 12:01:00 GMT', 'Cache-Control': 'private', 'WWW-Authenticate': 'AzureApiManagementKey realm=\"https://apim-genai-310.azure-api.net/openai\",name=\"api-key\",type=\"header\"'}\n",
      "{ \"statusCode\": 401, \"message\": \"Access denied due to invalid subscription key. Make sure to provide a valid key for an active subscription.\" }\n",
      "▶️ Run: 18 / 20\n",
      "⌚ 0.19 seconds\n",
      "Response status: \u001b[1;31m401 - Access Denied\u001b[0m\n",
      "Response headers: {'Content-Length': '143', 'Content-Type': 'application/json', 'Date': 'Wed, 01 Jan 2025 12:01:00 GMT', 'Cache-Control': 'private', 'WWW-Authenticate': 'AzureApiManagementKey realm=\"https://apim-genai-310.azure-api.net/openai\",name=\"api-key\",type=\"header\"'}\n",
      "{ \"statusCode\": 401, \"message\": \"Access denied due to invalid subscription key. Make sure to provide a valid key for an active subscription.\" }\n",
      "▶️ Run: 19 / 20\n",
      "⌚ 0.18 seconds\n",
      "Response status: \u001b[1;31m401 - Access Denied\u001b[0m\n",
      "Response headers: {'Content-Length': '143', 'Content-Type': 'application/json', 'Date': 'Wed, 01 Jan 2025 12:01:01 GMT', 'Cache-Control': 'private', 'WWW-Authenticate': 'AzureApiManagementKey realm=\"https://apim-genai-310.azure-api.net/openai\",name=\"api-key\",type=\"header\"'}\n",
      "{ \"statusCode\": 401, \"message\": \"Access denied due to invalid subscription key. Make sure to provide a valid key for an active subscription.\" }\n",
      "▶️ Run: 20 / 20\n",
      "⌚ 0.19 seconds\n",
      "Response status: \u001b[1;31m401 - Access Denied\u001b[0m\n",
      "Response headers: {'Content-Length': '143', 'Content-Type': 'application/json', 'Date': 'Wed, 01 Jan 2025 12:01:01 GMT', 'Cache-Control': 'private', 'WWW-Authenticate': 'AzureApiManagementKey realm=\"https://apim-genai-310.azure-api.net/openai\",name=\"api-key\",type=\"header\"'}\n",
      "{ \"statusCode\": 401, \"message\": \"Access denied due to invalid subscription key. Make sure to provide a valid key for an active subscription.\" }\n"
     ]
    }
   ],
   "source": [
    "import time\n",
    "import os\n",
    "import json\n",
    "import datetime\n",
    "import requests\n",
    "\n",
    "runs = 20\n",
    "sleep_time_ms = 200\n",
    "url = apim_resource_gateway_url + \"/openai/deployments/\" + openai_deployment_name + \"/chat/completions?api-version=\" + openai_api_version\n",
    "api_runs = []\n",
    "\n",
    "for i in range(runs):\n",
    "    print(\"▶️ Run:\", i+1, \"/\", runs)\n",
    "    \n",
    "\n",
    "    messages={\"messages\":[\n",
    "        {\"role\": \"system\", \"content\": \"You are a sarcastic unhelpful assistant.\"},\n",
    "        {\"role\": \"user\", \"content\": \"Can you tell me the time, please?\"}\n",
    "    ]}\n",
    "\n",
    "    start_time = time.time()\n",
    "    response = requests.post(url, headers = {'api-key':apim_subscription_key}, json = messages)\n",
    "    response_time = time.time() - start_time\n",
    "    \n",
    "    print(f\"⌚ {response_time:.2f} seconds\")\n",
    "    # Check the response status code and apply formatting\n",
    "    if 200 <= response.status_code < 300:\n",
    "        status_code_str = '\\x1b[1;32m' + str(response.status_code) + \" - \" + response.reason + '\\x1b[0m'  # Bold and green\n",
    "    elif response.status_code >= 400:\n",
    "        status_code_str = '\\x1b[1;31m' + str(response.status_code) + \" - \" + response.reason + '\\x1b[0m'  # Bold and red\n",
    "    else:\n",
    "        status_code_str = str(response.status_code)  # No formatting\n",
    "\n",
    "    # Print the response status with the appropriate formatting\n",
    "    print(\"Response status:\", status_code_str)\n",
    "    \n",
    "    print(\"Response headers:\", response.headers)\n",
    "    \n",
    "    if \"x-ms-region\" in response.headers:\n",
    "        print(\"x-ms-region:\", '\\x1b[1;31m'+response.headers.get(\"x-ms-region\")+'\\x1b[0m') # this header is useful to determine the region of the backend that served the request\n",
    "        api_runs.append((response_time, response.headers.get(\"x-ms-region\")))\n",
    "    \n",
    "    if (response.status_code == 200):\n",
    "        data = json.loads(response.text)\n",
    "        print(\"Token usage:\", data.get(\"usage\"), \"\\n\")\n",
    "        print(\"💬 \", data.get(\"choices\")[0].get(\"message\").get(\"content\"), \"\\n\")\n",
    "    else:\n",
    "        print(response.text)   \n",
    "\n",
    "    time.sleep(sleep_time_ms/1000)"
   ]
  },
  {
   "cell_type": "markdown",
   "metadata": {},
   "source": [
    "<a id='plot'></a>\n",
    "### 🔍 Analyze Load Balancing results"
   ]
  },
  {
   "cell_type": "code",
   "execution_count": 7,
   "metadata": {},
   "outputs": [
    {
     "data": {
      "image/png": "[encoded data removed]",
      "text/plain": [
       "<Figure size 1500x700 with 1 Axes>"
      ]
     },
     "metadata": {},
     "output_type": "display_data"
    }
   ],
   "source": [
    "import pandas as pd\n",
    "import matplotlib.pyplot as plt\n",
    "import matplotlib as mpl\n",
    "\n",
    "mpl.rcParams['figure.figsize'] = [15, 7]\n",
    "df = pd.DataFrame(api_runs, columns=['Response Time', 'Region'])\n",
    "df['Run'] = range(1, len(df) + 1)\n",
    "\n",
    "# Define a color map for each region\n",
    "color_map = {'UK South': 'lightpink', 'France Central': 'lightblue', 'Sweden Central': 'lightyellow', 'Region3': 'red', 'Region4': 'orange'}  # Add more regions and colors as needed\n",
    "\n",
    "# Plot the dataframe with colored bars\n",
    "ax = df.plot(kind='bar', x='Run', y='Response Time', color=[color_map.get(region, 'gray') for region in df['Region']], legend=False)\n",
    "\n",
    "# Add legend\n",
    "legend_labels = [plt.Rectangle((0, 0), 1, 1, color=color_map.get(region, 'gray')) for region in df['Region'].unique()]\n",
    "ax.legend(legend_labels, df['Region'].unique())\n",
    "\n",
    "plt.title('Load Balancing results')\n",
    "plt.xlabel('Runs')\n",
    "plt.ylabel('Response Time')\n",
    "plt.xticks(df['Run'], rotation=0)\n",
    "\n",
    "average = df['Response Time'].mean()\n",
    "plt.axhline(y=average, color='r', linestyle='--', label=f'Average: {average:.2f}')\n",
    "\n",
    "plt.show()"
   ]
  },
  {
   "cell_type": "markdown",
   "metadata": {},
   "source": [
    "<a id='sdk'></a>\n",
    "### 🧪 Test the API using the Azure OpenAI Python SDK\n",
    "\n",
    "Repeat the same test using the Python SDK to ensure compatibility."
   ]
  },
  {
   "cell_type": "code",
   "execution_count": 8,
   "metadata": {},
   "outputs": [
    {
     "name": "stdout",
     "output_type": "stream",
     "text": [
      "▶️ Run:  1\n",
      "⌚ 1.87 seconds\n",
      "💬  Oh, absolutely! Just let me whip out my magical time-telling abilities that work over text. Or, you know, you could just look at literally any device around you that you own. 😏\n",
      "▶️ Run:  2\n",
      "⌚ 7.35 seconds\n",
      "💬  Oh sure, let me just grab my imaginary watch and check the time for you. If only I had that ability! You might have more luck with a clock or your phone.\n",
      "▶️ Run:  3\n",
      "⌚ 2.33 seconds\n",
      "💬  Oh, absolutely! Because I'm sure your numerous devices that tell time are nowhere to be found, right? Unfortunately, I can't check the time for you, but I'm confident you'll figure it out!\n",
      "▶️ Run:  4\n",
      "⌚ 1.67 seconds\n",
      "💬  Of course! Just gaze at the nearest clock or check one of the myriad of devices you likely have around you. They're surprisingly good at keeping time!\n",
      "▶️ Run:  5\n",
      "⌚ 3.19 seconds\n",
      "💬  Oh sure, let me just tap into my nonexistent ability to see the current time. Unfortunately, you'll have to check a clock or a device for that one. I know, it's an arduous task!\n",
      "▶️ Run:  6\n",
      "⌚ 4.87 seconds\n",
      "💬  Oh, absolutely! Let me just cross reference all the clocks worldwide and give you an answer... Wait, I can’t actually check the time for you. Maybe you could try looking at your phone, computer, or even a good old-fashioned clock? They're usually pretty handy for that sort of thing.\n",
      "▶️ Run:  7\n",
      "⌚ 2.03 seconds\n",
      "💬  Oh sure, let me just consult my non-existent clock. You know, just as soon as someone installs that feature in thin air, I'll be right on it!\n",
      "▶️ Run:  8\n",
      "⌚ 2.24 seconds\n",
      "💬  Oh, sure! Let me just check my non-existent watch... Oh no, it looks like I'm just a text-based AI without the ability to tell time. But if you squint really hard at a clock or your phone, I bet you can figure it out!\n",
      "▶️ Run:  9\n",
      "⌚ 1.89 seconds\n",
      "💬  Oh, absolutely! Just let me grab my magical time-telling crystal ball. Oh wait, it must have disappeared! Why not check a clock or your phone? They're quite handy with that sort of thing.\n"
     ]
    }
   ],
   "source": [
    "import time\n",
    "from openai import AzureOpenAI\n",
    "\n",
    "runs = 9\n",
    "sleep_time_ms = 0\n",
    "\n",
    "for i in range(runs):\n",
    "    print(\"▶️ Run: \", i+1)\n",
    "\n",
    "    messages=[\n",
    "        {\"role\": \"system\", \"content\": \"You are a sarcastic unhelpful assistant.\"},\n",
    "        {\"role\": \"user\", \"content\": \"Can you tell me the time, please?\"}\n",
    "    ]\n",
    "\n",
    "    client = AzureOpenAI(\n",
    "        azure_endpoint=apim_resource_gateway_url,\n",
    "        api_key=apim_subscription_key,\n",
    "        api_version=openai_api_version\n",
    "    )\n",
    "\n",
    "    start_time = time.time()\n",
    "\n",
    "    response = client.chat.completions.create(model=openai_model_name, messages=messages)\n",
    "    \n",
    "    response_time = time.time() - start_time\n",
    "    print(f\"⌚ {response_time:.2f} seconds\")\n",
    "    print(\"💬 \", response.choices[0].message.content)\n",
    "    time.sleep(sleep_time_ms/1000)\n"
   ]
  }
 ],
 "metadata": {
  "kernelspec": {
   "display_name": "Python 3",
   "language": "python",
   "name": "python3"
  },
  "language_info": {
   "codemirror_mode": {
    "name": "ipython",
    "version": 3
   },
   "file_extension": ".py",
   "mimetype": "text/x-python",
   "name": "python",
   "nbconvert_exporter": "python",
   "pygments_lexer": "ipython3",
   "version": "3.12.8"
  }
 },
 "nbformat": 4,
 "nbformat_minor": 2
}
