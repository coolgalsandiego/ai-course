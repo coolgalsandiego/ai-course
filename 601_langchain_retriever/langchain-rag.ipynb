{
 "cells": [
  {
   "cell_type": "markdown",
   "metadata": {},
   "source": [
    "# Build a semantic search engine\n",
    "\n",
    "This tutorial will familiarize you with LangChain's document loader, embedding, and vector store abstractions. These abstractions are designed to support retrieval of data-- from (vector) databases and other sources-- for integration with LLM workflows. They are important for applications that fetch data to be reasoned over as part of model inference, as in the case of retrieval-augmented generation, or RAG (see our RAG tutorial here).\n",
    "\n",
    "Here we will build a search engine over a PDF document. This will allow us to retrieve passages in the PDF that are similar to an input query.\n",
    "\n",
    "## Prerequisites\n",
    "\n",
    "You will need to provision the following Azure resources:\n",
    "* Azure OpenAI with two models: GPT-4o and Embedding model.\n",
    "* Azure AI Search.\n",
    "You can run the terraform template from folder `../400_azure_ai_foundry` to create all of these resources by simply running the following commands.\n",
    "\n",
    "```sh\n",
    "terraform init\n",
    "terraform plan -out tfplan\n",
    "terraform apply tfplan\n",
    "```\n",
    "\n",
    "Then you will need to setup the values for the environment variables in file `.env`.\n",
    "\n",
    "The following resources should be created.\n",
    "\n",
    "![](images/resources.png)\n",
    "\n",
    "## Documents and Document Loaders\n",
    "\n",
    "LangChain implements a Document abstraction, which is intended to represent a unit of text and associated metadata. It has three attributes:\n",
    "\n",
    "* page_content: a string representing the content;\n",
    "* metadata: a dict containing arbitrary metadata;\n",
    "* id: (optional) a string identifier for the document.\n",
    "\n",
    "The metadata attribute can capture information about the source of the document, its relationship to other documents, and other information. Note that an individual Document object often represents a chunk of a larger document.\n",
    "\n",
    "This tutorial requires the langchain-community and pypdf packages."
   ]
  },
  {
   "cell_type": "code",
   "execution_count": 1,
   "metadata": {},
   "outputs": [
    {
     "name": "stdout",
     "output_type": "stream",
     "text": [
      "Note: you may need to restart the kernel to use updated packages.\n"
     ]
    }
   ],
   "source": [
    "%pip install langchain-community pypdf --quiet"
   ]
  },
  {
   "cell_type": "markdown",
   "metadata": {},
   "source": [
    "## Loading documents\n",
    "\n",
    "Let's load a PDF into a sequence of Document objects. We can consult the LangChain documentation for available PDF document loaders. Let's select PyPDFLoader, which is fairly lightweight."
   ]
  },
  {
   "cell_type": "code",
   "execution_count": 3,
   "metadata": {},
   "outputs": [
    {
     "name": "stdout",
     "output_type": "stream",
     "text": [
      "701\n"
     ]
    }
   ],
   "source": [
    "from langchain_community.document_loaders import PyPDFLoader\n",
    "\n",
    "file_path = \"./example_data/azure-for-architects.pdf\" #nke-10k-2023.pdf\"\n",
    "loader = PyPDFLoader(file_path)\n",
    "\n",
    "docs = loader.load()\n",
    "\n",
    "print(len(docs))"
   ]
  },
  {
   "cell_type": "markdown",
   "metadata": {},
   "source": [
    "PyPDFLoader loads one Document object per PDF page. For each, we can easily access:\n",
    "\n",
    "* The string content of the page;\n",
    "* Metadata containing the file name and page number."
   ]
  },
  {
   "cell_type": "code",
   "execution_count": 11,
   "metadata": {},
   "outputs": [
    {
     "name": "stdout",
     "output_type": "stream",
     "text": [
      "168 | Cost management for Azure solutions\n",
      "It is important for companies to keep a close watch on Azure consumption and usage. \n",
      "Although they can create policies to set organizational standards and conventions, \n",
      "there is also a need to keep track of billing and consumption data. Moreover, they \n",
      "should employ best practices for consuming Azure resources so that the return is \n",
      "maximized. For this, architects need to know about Azure resources and features, their \n",
      "corresponding costs, and the cost/benefit analysis of features and solutions.\n",
      "In this chapter, we will cover the following topics:\n",
      "• Azure offer details\n",
      "• Billing\n",
      "• Invoicing\n",
      "• Usage and quotas\n",
      "• Usage and Billing APIs\n",
      "• Azure pricing calculator\n",
      "• Best practices for cost optimization\n",
      "Let's go ahead and discuss each of these points.\n",
      "Azure offer details\n",
      "Azure has different offers that you can purchase. So far, we have discussed pay-as-\n",
      "you-go, but there are others, such as Enterprise Agreements (EAs), Azure Sponsorship, \n",
      "and Azure in CSP. We will cover each of these as they are very important for billing:\n",
      "• Pay-as-you-go: This is a commonly known offering, where customers pay based \n",
      "on the consumption and the rates are available in the public-facing documentation \n",
      "of Azure. Customers receive an invoice every month for usage from Microsoft and \n",
      "they can pay via credit card or an invoice payment method.\n",
      "• EAs: EAs entail a monetary commitment with Microsoft, which means that \n",
      "organizations sign an agreement with Microsoft and promise that they will use \n",
      "x amount of Azure resources. If the usage goes above the agreed amount, the \n",
      "customer will receive an overage invoice. Customers can create multiple accounts \n",
      "under an EA and have multiple subscriptions inside these accounts. There are two \n",
      "types of EA: Direct EA and Indirect EA. Direct EA customers have a direct billing \n",
      "relationship with Microsoft; on the other hand, with Indirect EA, the billing is \n",
      "managed by a partner. EA customers will get better offers and discounts because \n",
      "of the commitment they make with Microsoft. The EA is managed via a portal \n",
      "called the EA portal (https:/ /ea.azure.com), and you need to have enrolment \n",
      "privileges to access this portal.\n",
      "\n",
      "{'producer': 'Adobe PDF Library 15.0', 'creator': 'Adobe InDesign 16.0 (Windows)', 'creationdate': '2021-06-17T13:34:27+05:30', 'author': 'Ritesh Modi', 'moddate': '2021-06-17T14:21:14+05:30', 'subject': 'Create secure, scalable, high-availability applications on the cloud', 'title': 'Azure for Architects, Third Edition', 'trapped': '/False', 'source': './example_data/azure-for-architects.pdf', 'total_pages': 701, 'page': 200, 'page_label': '168'}\n"
     ]
    }
   ],
   "source": [
    "print(f\"{docs[200].page_content}\\n\")\n",
    "print(docs[200].metadata)"
   ]
  },
  {
   "cell_type": "markdown",
   "metadata": {},
   "source": [
    "## Splitting text by characters\n",
    "\n",
    "For both information retrieval and downstream question-answering purposes, a page may be too coarse a representation. Our goal in the end will be to retrieve `Document` objects that answer an input query, and further splitting our PDF will help ensure that the meanings of relevant portions of the document are not \"washed out\" by surrounding text.\n",
    "\n",
    "We can use text splitters for this purpose. Here we will use a simple text splitter that partitions based on characters. We will split our documents into chunks of 1000 characters with 200 characters of overlap between chunks. The overlap helps mitigate the possibility of separating a statement from important context related to it. We use the RecursiveCharacterTextSplitter, which will recursively split the document using common separators like new lines until each chunk is the appropriate size. This is the recommended text splitter for generic text use cases.\n",
    "\n",
    "We set `add_start_index=True` so that the character index where each split Document starts within the initial Document is preserved as metadata attribute “start_index”."
   ]
  },
  {
   "cell_type": "code",
   "execution_count": 26,
   "metadata": {},
   "outputs": [
    {
     "name": "stdout",
     "output_type": "stream",
     "text": [
      "Number of splits:  1385\n"
     ]
    }
   ],
   "source": [
    "from langchain_text_splitters import RecursiveCharacterTextSplitter\n",
    "\n",
    "text_splitter = RecursiveCharacterTextSplitter(\n",
    "    chunk_size=1000, chunk_overlap=0, add_start_index=True\n",
    ")\n",
    "all_splits = text_splitter.split_documents(docs)\n",
    "\n",
    "print(\"Number of splits: \", len(all_splits))"
   ]
  },
  {
   "cell_type": "markdown",
   "metadata": {},
   "source": [
    "View a sample split or chunk."
   ]
  },
  {
   "cell_type": "code",
   "execution_count": 27,
   "metadata": {},
   "outputs": [
    {
     "name": "stdout",
     "output_type": "stream",
     "text": [
      "page_content='increased, automation has found increased focus and attention. The primary reason \n",
      "is that cloud technology's agility and flexibility provide an opportunity to provision, \n",
      "deprovision, and manage these resources on the fly in a tiny fraction of the time it \n",
      "used to take. Along with this flexibility and agility come the requirements to be more \n",
      "predictable and consistent with the cloud because it has become easy for organizations \n",
      "to create resources.\n",
      "Provisioning\n",
      "• Data centers\n",
      "• PaaS services\n",
      "• Application \n",
      "deployments\n",
      "• Environment \n",
      "and application \n",
      "Operations\n",
      "• Backups and \n",
      "restores\n",
      "• Monitoring\n",
      "• Performance\n",
      "• Disaster \n",
      "recovery\n",
      "• Availability\n",
      "• Scalability\n",
      "• Stop-start-\n",
      "pause-resume\n",
      "Management\n",
      "• Access \n",
      "management\n",
      "• Resource \n",
      "locking\n",
      "• Policies\n",
      "• Tagging\n",
      "• Cost\n",
      "• releases\n",
      "Deprovisioning\n",
      "• Delete and \n",
      "tear down \n",
      "resources\n",
      "• Soft delete \n",
      "of application \n",
      "• Transfer' metadata={'producer': 'Adobe PDF Library 15.0', 'creator': 'Adobe InDesign 16.0 (Windows)', 'creationdate': '2021-06-17T13:34:27+05:30', 'author': 'Ritesh Modi', 'moddate': '2021-06-17T14:21:14+05:30', 'subject': 'Create secure, scalable, high-availability applications on the cloud', 'title': 'Azure for Architects, Third Edition', 'trapped': '/False', 'source': './example_data/azure-for-architects.pdf', 'total_pages': 701, 'page': 136, 'page_label': '104', 'start_index': 961}\n",
      "---------------\n",
      "page_content='Azure Automation | 105\n",
      "Microsoft has a great tool for IT automation known as System Center Orchestrator. It is \n",
      "a great tool for automation for on-premises and cloud environments, but it is a product \n",
      "and not a service. It should be licensed and deployed on servers, and then runbooks can \n",
      "be executed to effect changes on cloud and on-premises environments.\n",
      "Microsoft realized that an automation solution was required that could be provided \n",
      "to customers as a service rather than bought and deployed as a product. Enter Azure \n",
      "Automation.\n",
      "Azure Automation\n",
      "Azure provides a service called Azure Automation, which is an essential service for the \n",
      "automation of processes, activities, and tasks not only on Azure but also on-premises \n",
      "as well. Using Azure Automation, organizations can automate their processes and tasks \n",
      "related to processing, tear-down, operations, and the management of their resources \n",
      "across the cloud, IT environments, platforms, and languages. In Figure 4.2, we can see' metadata={'producer': 'Adobe PDF Library 15.0', 'creator': 'Adobe InDesign 16.0 (Windows)', 'creationdate': '2021-06-17T13:34:27+05:30', 'author': 'Ritesh Modi', 'moddate': '2021-06-17T14:21:14+05:30', 'subject': 'Create secure, scalable, high-availability applications on the cloud', 'title': 'Azure for Architects, Third Edition', 'trapped': '/False', 'source': './example_data/azure-for-architects.pdf', 'total_pages': 701, 'page': 137, 'page_label': '105', 'start_index': 0}\n"
     ]
    }
   ],
   "source": [
    "# print a sample chunk\n",
    "print(all_splits[309])\n",
    "print(\"---------------\")\n",
    "print(all_splits[310])"
   ]
  },
  {
   "cell_type": "markdown",
   "metadata": {},
   "source": [
    "## Creating Embeddings\n",
    "\n",
    "`Vector search` is a common way to store and search over unstructured data (such as unstructured text). The idea is to store numeric vectors that are associated with the text. Given a query, we can embed it as a vector of the same dimension and use vector similarity metrics (such as cosine similarity) to identify related text.\n",
    "\n",
    "`LangChain` supports embeddings from dozens of providers. These models specify how text should be converted into a numeric vector. "
   ]
  },
  {
   "cell_type": "code",
   "execution_count": 15,
   "metadata": {},
   "outputs": [
    {
     "name": "stdout",
     "output_type": "stream",
     "text": [
      "Note: you may need to restart the kernel to use updated packages.\n",
      "Requirement already satisfied: python-dotenv in c:\\users\\hodellai\\appdata\\local\\programs\\python\\python312\\lib\\site-packages (1.0.1)Note: you may need to restart the kernel to use updated packages.\n",
      "\n"
     ]
    }
   ],
   "source": [
    "%pip install -qU langchain-openai --quiet\n",
    "%pip install python-dotenv --quiet"
   ]
  },
  {
   "cell_type": "code",
   "execution_count": 33,
   "metadata": {},
   "outputs": [],
   "source": [
    "import os\n",
    "from langchain_openai import AzureOpenAIEmbeddings\n",
    "from dotenv import load_dotenv\n",
    "\n",
    "if os.path.exists(\".env\"):\n",
    "    load_dotenv(override=True)\n",
    "\n",
    "\n",
    "embeddings = AzureOpenAIEmbeddings(\n",
    "    azure_endpoint=os.environ[\"AZURE_OPENAI_ENDPOINT\"],\n",
    "    openai_api_key=os.environ[\"AZURE_OPENAI_API_KEY\"],\n",
    "    azure_deployment=os.environ[\"AZURE_OPENAI_EMBEDDING_MODEL\"],\n",
    "    openai_api_version=os.environ[\"AZURE_OPENAI_EMBEDDING_API_VERSION\"],\n",
    ")"
   ]
  },
  {
   "cell_type": "code",
   "execution_count": 18,
   "metadata": {},
   "outputs": [
    {
     "name": "stdout",
     "output_type": "stream",
     "text": [
      "Generated vectors of length 3072\n",
      "\n",
      "[0.010515968315303326, -0.01905210129916668, -0.017833741381764412, 0.022737640887498856, 0.008901641704142094, -0.006392581854015589, -0.011467811651527882, 0.024169212207198143, -0.0178185123950243, 0.02282901667058468]\n",
      "[-0.002384420484304428, -0.014230713248252869, -0.017530273646116257, 0.012981644831597805, 0.021096978336572647, -0.03303893655538559, -0.021400220692157745, 0.027956021949648857, -0.031335003674030304, 0.007270587608218193]\n"
     ]
    }
   ],
   "source": [
    "vector_1 = embeddings.embed_query(all_splits[0].page_content)\n",
    "vector_2 = embeddings.embed_query(all_splits[1].page_content)\n",
    "\n",
    "print(f\"Generated vectors of length {len(vector_1)}\\n\")\n",
    "print(vector_1[:10])\n",
    "print(vector_2[:10])"
   ]
  },
  {
   "cell_type": "markdown",
   "metadata": {},
   "source": [
    "Armed with a model for generating text embeddings, we can next store them in a special data structure that supports efficient similarity search.\n",
    "\n",
    "## Vector stores for Azure AI Search\n",
    "\n",
    "`LangChain VectorStore` objects contain methods for adding text and `Document` objects to the store, and querying them using various similarity metrics. They are often initialized with embedding models, which determine how text data is translated to numeric vectors.\n",
    "\n",
    "`LangChain` includes a suite of integrations with different vector store technologies. Some vector stores are hosted by a provider (e.g., various cloud providers) and require specific credentials to use; some (such as `Postgres`) run in separate infrastructure that can be run locally or via a third-party; others can run in-memory for lightweight workloads."
   ]
  },
  {
   "cell_type": "code",
   "execution_count": 19,
   "metadata": {},
   "outputs": [
    {
     "name": "stdout",
     "output_type": "stream",
     "text": [
      "Note: you may need to restart the kernel to use updated packages.\n",
      "Note: you may need to restart the kernel to use updated packages.\n"
     ]
    }
   ],
   "source": [
    "%pip install --upgrade --quiet azure-search-documents\n",
    "%pip install --upgrade --quiet azure-identity"
   ]
  },
  {
   "cell_type": "code",
   "execution_count": 37,
   "metadata": {},
   "outputs": [],
   "source": [
    "from langchain_openai import AzureOpenAIEmbeddings, AzureOpenAIEmbeddings\n",
    "\n",
    "embeddings: AzureOpenAIEmbeddings = AzureOpenAIEmbeddings(\n",
    "    azure_deployment=os.environ[\"AZURE_OPENAI_EMBEDDING_MODEL\"],\n",
    "    openai_api_version=os.environ[\"AZURE_OPENAI_EMBEDDING_API_VERSION\"],\n",
    "    azure_endpoint=os.environ[\"AZURE_OPENAI_ENDPOINT\"],\n",
    "    api_key=os.environ[\"AZURE_OPENAI_API_KEY\"],\n",
    ")"
   ]
  },
  {
   "cell_type": "markdown",
   "metadata": {},
   "source": [
    "## Create vector store instance\n",
    "\n",
    "Create instance of the `AzureSearch` class using the embeddings from above."
   ]
  },
  {
   "cell_type": "code",
   "execution_count": 38,
   "metadata": {},
   "outputs": [],
   "source": [
    "from langchain_community.vectorstores.azuresearch import AzureSearch\n",
    "\n",
    "# Specify additional properties for the Azure client such as the following https://github.com/Azure/azure-sdk-for-python/blob/main/sdk/core/azure-core/README.md#configurations\n",
    "vector_store: AzureSearch = AzureSearch(\n",
    "    azure_search_endpoint=os.environ[\"AZURE_SEARCH_SERVICE_ENDPOINT\"],\n",
    "    azure_search_key=os.environ[\"AZURE_SEARCH_SERVICE_ADMIN_KEY\"],\n",
    "    index_name=os.environ[\"AZURE_SEARCH_SERVICE_INDEX\"],\n",
    "    embedding_function=embeddings.embed_query,\n",
    "    # Configure max retries for the Azure client\n",
    "    additional_search_client_options={\"retry_total\": 3},\n",
    "    relevance_score_fn=\"cosine\",\n",
    ")"
   ]
  },
  {
   "cell_type": "markdown",
   "metadata": {},
   "source": [
    "## Insert text and embeddings into vector store\n",
    "\n",
    "This step loads, chunks, and vectorizes the sample document, and then indexes the content into a search index on `Azure AI Search`."
   ]
  },
  {
   "cell_type": "code",
   "execution_count": 44,
   "metadata": {},
   "outputs": [
    {
     "data": {
      "text/plain": [
       "['YWU3OGQyODktNzAxOC00OGY4LTgxYzUtNmE5Yjg1MTRiYmI5',\n",
       " 'NzBlNjYwNTUtNjQ0MC00ZDhiLThlZDQtY2EyOGQ5ZmVjOWJl',\n",
       " 'Nzc0N2E1ODctOGNjYi00ZTZhLTg0YzEtZmFlMTI5OTliY2Jm',\n",
       " 'ZTc2MDdiYmMtMWFlMS00MDU4LThmNmEtNzQ0ZmI2NTI1MTIz',\n",
       " 'MjE4ZDY5ZDYtYTc2YS00OGVjLWFiMDItYzE1ODMxYzlhNDNh',\n",
       " 'MjMwMDM2ZjQtYjEzZC00ZjdhLTllMGMtNzU1MTE2NjRiNWE2',\n",
       " 'NTk4ZjZhZTktOWUzOC00OTJjLWEyYTQtZTQzYWFlY2QwNTkx',\n",
       " 'MzkwYWY2ODktNmNiMi00OTdmLThiNWMtMGY1MzhkOWZmN2Rk',\n",
       " 'ZmRmY2M2NmMtNTg0Mi00ZDY5LTk0MGYtYjc4ZDZkNTUyNDlm',\n",
       " 'ODU0NWI1MTctMTQ2Yy00OTQxLTg2YWYtZDIxNzcyMTg2ZTcx',\n",
       " 'OTgyNWI4NTEtNGFkMy00ZTk2LTlhMGQtNjM4YmEzZTYzMzIx',\n",
       " 'OThhZTE2NGUtNGY3OS00ZjY2LWI4N2QtMDU3OWRlODdhOWVl',\n",
       " 'NTQzNjNkZGEtYzNkMC00YzE1LWFiOTUtZWRlYTM0MTY4YmZm',\n",
       " 'YzhlNWU3M2MtNzJiNS00NjYzLWE1MWMtY2IyNWFhMmZhNGE3',\n",
       " 'N2UyMDdiNzEtYmUyNi00MGIxLWJiMjMtYzJhYzk0OThkM2Fh',\n",
       " 'OWI5YWQ3YmQtZDJmNi00MWRhLTk5ZGMtYjJmNzFlOGZkODFj',\n",
       " 'MmNmYmU0NjMtZjFlOS00ZWNjLTlhNTYtZDM2YWQzZDdlZjk0',\n",
       " 'YWRhYmU5YzUtMDYzYy00MTI3LTk0YTYtOGM2ODU2Njg2YjBi',\n",
       " 'NWVhYTQwZTItOTU5Zi00NWNmLWIwZDEtMmE0Yzc2ZWI4ZmUw',\n",
       " 'ZThiMTM5MmUtMzcyMS00ZjYyLTkyY2UtZjdjOWYzNjRkYzE5',\n",
       " 'ZDU2YTU1Y2EtYjRlZS00MTVhLTk0YTgtMGU0MGEyNzBhMzJm',\n",
       " 'OTBmZTdjMjYtYTBlNS00NTI0LWE2NDEtM2Q4NzhkMmZlNTg0',\n",
       " 'YTdlODc3ZDYtMzg4MS00MDA3LTg4MzYtZmJkMTliMjk2ODQy',\n",
       " 'ZTU5MDEyZTctYWVkOS00NmU2LTkxOTktMTM4ZmFhN2QxOWRi',\n",
       " 'YTFhZTE3Y2MtNjQ5YS00NTUxLTllNTAtMjZmOTU5OTFlMGU0',\n",
       " 'MTgxOWRhNzctMGU2OS00YzNiLWE3OTgtMDAwM2NlNTYzZjYz',\n",
       " 'NGJmMjVhZTItZjhhYi00NTZjLTllYTUtOWE5M2IwZTA2OTli',\n",
       " 'MDRmYmY2YjQtZTU4My00YWMwLTk0ZGMtMWMwZWY0ZTY2NWMx',\n",
       " 'ZTg3ZjE2MzktMjMwYy00OTA4LWE5MzUtM2I3YmRmZTIzZGQ2',\n",
       " 'OGRkYTdmMjItMThkMi00MGEwLTgwOWUtODNlZjRlZWZjNTVh',\n",
       " 'ZGNlYWQxYjAtN2QzYS00YjNkLTliZGQtYTY2ZmIxOWQ0Yzgz',\n",
       " 'M2VlZGVmYjAtMzMyNC00MWM4LWFiOWYtZDYyYWY2YmFiYzZl',\n",
       " 'NWQ1NzZjNzktYzU3Ni00ZWM1LTk0NGYtZDk0OWFlZDEyM2I5',\n",
       " 'YWIyNmM3ODQtM2VjYS00Y2ZhLThkYTYtOTkxNDdjMDVjZGZm',\n",
       " 'MGQyYjQzOTQtM2I5MS00YWYxLTg1NTAtZWRlYWE5N2E3OGVj',\n",
       " 'N2VmYmQwMmYtNWE0My00MTg4LWJiZjAtMWE1ZGExYjgzZTdm',\n",
       " 'Y2UwOTY1OTMtYzdlOC00N2ZjLWFkZDctZTk2MmE1MmJmNmM1',\n",
       " 'ZDEwMDk4NWUtMzc0OC00ZDgxLTg2ZTktOTk4MmYwZjc5MGZk',\n",
       " 'M2FjZmVkY2UtNmU0Mi00YjEzLTk0MjMtOGYzODMxYThkNDQ2',\n",
       " 'NjIyMWY4MDEtNDI5MS00OWM4LTlmNWQtOWE1NzM5Nzg1ZjAw',\n",
       " 'NzMzN2YxNjUtNTY2OC00YTA2LWJiNTktYjJiZWJhZTQxMGUw',\n",
       " 'MDVjODQ5ZmMtMDAxNy00ZTRjLWEzZmUtZmI0Y2YwMTAwZjk0',\n",
       " 'NjQ4N2ZiYjYtNDNkYy00NTJjLWE5ZWItZGIxNTc1YzMzZmJk',\n",
       " 'ZGNjZTQ5ZDYtNDVhMS00OGVhLThiYTctNWEyZjAyODMxYzAy',\n",
       " 'ZTlkOGE0NDEtYTY0OS00MTI4LTlhNGMtMDU3M2M2N2VhMTZh',\n",
       " 'NDcwNzc1NjUtNzI0MC00ZDM4LWE0YTUtNTNjZDc3MzE2OGVi',\n",
       " 'OTkzYmI2MTQtMjgwOS00ZDM3LWFmMDQtOWIxYTRlYThiNDUx',\n",
       " 'NTA0MWE1MDgtYjQyOS00OGE2LTkyODQtYWRjNzAyNDMwMDU2',\n",
       " 'ZGYyNDdjOGMtMmFlNi00MTQ2LTk5YTItMWVlODVhMDJlODA3',\n",
       " 'NTg5OTVkNWMtMmQ0Ny00ZjdkLThhZDgtNjY1ODZhYjJjMDQ2',\n",
       " 'YjQxNjA3MTQtOWEyOC00NGE1LThjNDAtMzU1MTE1NTljYjIz',\n",
       " 'OTViNThhYTctM2M4NC00N2ExLThmNGYtYTQ3OGYwOTM0ZTFl',\n",
       " 'ZDVmNDZmM2ItOWM1Zi00M2NkLTg0MGMtYjNkYTMyZWJjZjUx',\n",
       " 'ZTc5YjFhMjQtNTUxYi00ZTJjLWFhMTgtMWM2ODhiYTdhY2Ew',\n",
       " 'MDk4YTUyMzMtMWI5Ni00MjM5LWEzYWYtNDA3ZjNkNTBmM2E2',\n",
       " 'YzBiNmZhODEtODRmMC00ZTUzLTk4NDEtZjRhNWJhMjlhODcw',\n",
       " 'YWI1NTExMTctMWY1ZC00Y2RkLThmMjEtMWZhY2E4YjEwY2Q4',\n",
       " 'YjNhMDc1YmEtZTczOS00NTc4LThmYjctNWFjNWYzYjBhYjRh',\n",
       " 'NDgzNWNkNjgtZWJmMC00NTIyLThlMTAtOTgyOGQ0Yzk1NzE5',\n",
       " 'ODlkY2Y0YjgtODgxYy00N2I4LWJmNDEtMGNkZDBhYTJiNTAy',\n",
       " 'ZTI4NTEyNjYtYTZlMS00NDZhLWI3ZjItMDlhODMxM2Q3OWI1',\n",
       " 'ODU0YWExNTUtMDlmNC00ZmUwLWIwZjktZmFhOTU1NjM2NjE5',\n",
       " 'NmUzODkyZjctNmU3MC00ODJmLTgwN2MtMGQ5MTlmOTRiNTg5',\n",
       " 'MzYyMWJhYTctNjdkNS00ZmZjLTkyYmMtM2EzYzU5OWIzYmVj',\n",
       " 'YjUyZTUwNmQtOWYxOS00ZmE3LWI4YTMtZjliZGIwNDdhYmNk',\n",
       " 'ODgyZjNlMWEtYWRhNi00YmFjLWJhYjEtNWY1MjAwYTE5Y2Fm',\n",
       " 'NTNiMDJhMzQtMGYxMi00ZWVjLWJhNWQtOGUxNDIyNmY0MTFh',\n",
       " 'MWJiZDgzNGUtNzE0MS00MzdhLTgxOGItMzBiNDhiM2NhYTMy',\n",
       " 'ZDViYmY5MjQtZGMzMi00YTBjLWEzZmQtZGVkNmFlNDA4N2Y1',\n",
       " 'MmFmNjNkNTctMWUxNy00NGQ4LThiNWYtNmQwMDg1ODdiYTRj',\n",
       " 'NjY2NThmNGEtNDY2Ny00MTZlLTljNTctNGIwOGE4Yjk4MDc3',\n",
       " 'NWE1ZWJkODUtMGRkMS00MDUwLTliNWYtZWNmNjA5ZGI2OTdl',\n",
       " 'MjBlZGFhNTctYzg0ZC00ZTVmLWJmYmEtMTQ4ODlhYjNmOGI1',\n",
       " 'OGRkNzBjMjUtOTQ5Yy00ZDViLWIxNmItZWJlNTQxYmM4ZDQ2',\n",
       " 'MjM2OWE1MWUtMTU0My00OTdjLWI5NWMtNmNiMTcwYzFhOGZj',\n",
       " 'ZWE3MTFhYjYtMGE2Yy00ZmVjLThjNzItMjA0MGY3NTU3YzVm',\n",
       " 'YTNlY2NiM2QtMGQ4NC00MjExLTliMzMtZWJhNWZjYWE2NGIz',\n",
       " 'YTkxZjMwOGQtMTcxNy00MTY5LTliMzYtYzBjMjE4YzJhNTE4',\n",
       " 'MGE0ZjgzMTgtZDgyYi00YjYzLThiMTUtMzQ3Nzk5YTYyMjYx',\n",
       " 'OGU1MWEwOTMtMDFmNC00YmY1LTgxNDQtODI3MDJmMzUxNjYz',\n",
       " 'OTMxYTNkZDgtMGMzMi00ZDQwLTk5NzgtOGI5N2QwNmIzMWFi',\n",
       " 'ZWNiOTkyNmYtM2ZhNy00MWM2LTlhMjAtMjY0YjIyMjcyNzVh',\n",
       " 'NTgyZTA0NTktYWRmZS00MGM3LTlhODMtZGRlYmNiYzVmMTE0',\n",
       " 'Y2QwZjFjMWEtMmJkYy00YTdjLTk3ODMtZjk0YjU5OTZmNjY1',\n",
       " 'OTJiZmQyMDctYWU0MC00MjU4LTk5OTQtNDNmZGJmZTNiNDcx',\n",
       " 'NWZmZTNjNGEtMTZmOS00NTZmLTg3ZWYtOTllNjMzMGNlNDE5',\n",
       " 'MjRiYzM1NmMtOTFiNS00M2Y0LWI4ZDctYWQ4ZjI1ZjUxNmFl',\n",
       " 'MjgyNjAyNDgtZjNiNC00NWNjLWIwMjQtMzg1OTM3MTU4NzBl',\n",
       " 'OWRhYWExMWEtYjhlMC00OTM1LWI0MjAtOTlmMzg2MWZhODEx',\n",
       " 'MTNlMTgwZDQtMDAxOC00YTQxLTk5OWUtYTZmY2VjNWVlZTYy',\n",
       " 'NzhiNTVkYTUtMjg2Zi00ZjBmLTk3YmMtZWRmNzU1ZTJmNTky',\n",
       " 'NTcwOTQ2ZjMtN2VmNi00NGUyLWIyYzMtYTBlMDBlY2Q2NDNk',\n",
       " 'YjM3MDgwMmUtMWZkZC00NmE5LTljYzMtODMyMTdiYjcyYWZi',\n",
       " 'ZDcwYjljZWUtZWFiMi00ZWU3LTkwYmEtNzhhZDQ5OGZiMTVm',\n",
       " 'ODA0NDg3ZDAtOTUwZS00Nzk3LTliYzgtZjFjMGUzZjIwNzg5',\n",
       " 'ODg4MGQ0YjEtYTAyNC00NTY1LTllZDUtNjk0NmI5MzllNDUw',\n",
       " 'YTQ1NjZlN2EtOGRmYi00OWVmLWI2NGItNTU4MGRkNTUyYTg3',\n",
       " 'NzliYmM0MTEtYzU2ZS00NzcwLTg4ZjEtMjRhY2I5ZDUzNmYy',\n",
       " 'ODY1NmUxZGMtNTVhNC00OWI4LTllZmMtMzVlNzcxOTBiZDI2',\n",
       " 'YWE3ZWIyNTktOGZjNy00MzQ0LThjNTMtNmQ2NTBlNGUzN2M3',\n",
       " 'ZmQ1ZjU2MzQtZjBiYS00ZDI0LWJhNjQtOWY1YzU1OTYxOGQ1',\n",
       " 'MzQ2YTRhMDMtZmQ5MS00NDk5LTlhNjctNTBiODM1YjI2MDlm',\n",
       " 'Y2U2NWFiZDMtOTI4Yy00ZDU4LTk0MjItOGY0NWFmZjNkY2Y2',\n",
       " 'MTkyNGYwMTYtM2M0OC00MzRkLWI4ZTUtMGJkMmQyNzJkMWMx',\n",
       " 'YmVjZmQ2ODYtZGM1OS00YTIwLWEwZDYtNzMwMjEwOTg5YWFj',\n",
       " 'ODFmNTU5MjAtYjUzOC00ZWI1LTg2MjItNmY0YzI1YTgwZDQ0',\n",
       " 'NmFjNTRmNGQtZWQ5MC00NjVhLWFkNmItYzgzNWVkMGIzNjVh',\n",
       " 'ODc1Y2E2ODctNzAxZS00YTM2LWIyZWYtNzJmYjVkZjc3OWI2',\n",
       " 'NTJmNzM0MjgtNmUyNS00MzU2LWEzN2ItMDk0ZjAyZjhmZTY5',\n",
       " 'ZTkyMjI2MmItOTI4NS00NmFjLTgwZTMtMGExYjllYTZmYzY3',\n",
       " 'NzFiNDUyMjgtMmVmMC00Y2RhLTkxM2MtMTU1YzcyZjhmYmNh',\n",
       " 'M2ExYTkxMmItM2FiNy00OTU0LTkzOWMtMmJjNjdkZTE4ZDcw',\n",
       " 'MmU0OGExOGItZjBiYi00NGJmLThiNGEtZmZlNGJkNzM4M2Rl',\n",
       " 'MzhkMmExNTItMTlkMi00YTYwLThlMDktNzJlZGRhMjlhMjEw',\n",
       " 'MTUyMDNkMzEtZWE1ZC00NTQ1LWI1MGItOGQ0OTViMmU1Zjgw',\n",
       " 'MmU3ZDYwODgtODI0NS00ZDQxLWFlMjctMTMxZTc4MWNlZTMx',\n",
       " 'M2NhYzA0NTMtMTE0Yi00ZGZiLTgxMTUtMWJkZTc1NjE1OTlh',\n",
       " 'MWJmYzU2Y2QtNDg3Ni00MjliLWFhNDUtYTEyNmUyZTMzOGMx',\n",
       " 'NTVkMjk3OWUtYjE5NS00NjNiLTlhZmYtZTQ0ZGY3M2ZhOTBi',\n",
       " 'NTk0ZGRlYTctNjZmMS00OTZiLTkyNzktOWEzZTQ5ZDhiOGU2',\n",
       " 'NmQ1MTZhMjAtYzM3OC00MGU3LWJjNmItNjhlZTMyMzFlZjcz',\n",
       " 'OTNjMTM3NDMtZGIwMS00M2VmLWEwOTAtM2Q2MDZlOGM5Yzky',\n",
       " 'MzExMDFlYzgtZmQwZi00Y2RjLWFiMjQtZDk4NzZlMzVjMmVl',\n",
       " 'NzZjZGUzYWItMWQ1Yy00N2E4LWE2NTMtYmU3N2JmOGE3MDll',\n",
       " 'MGRlMDAxOWUtZDRlOC00M2VjLTk0MGEtYTFmYWRlNTlhNjM0',\n",
       " 'OTcwN2Q1NGMtNzFkZS00YzAwLTgxZDQtYjA5YzhlOWNmNmNm',\n",
       " 'NjI0MjMyZDgtNTg2Yy00NTAwLTg3NjEtNTFkNzAwZjM4NWRl',\n",
       " 'Y2Q0YTEyYWItZDMyYi00NWY5LWFmZWMtNzQwODljYTI5Mzg5',\n",
       " 'ZTQ5YjhkZDgtODI4MC00N2YzLWI0ZDAtNjBhZTBjMjBkMmU2',\n",
       " 'YWRjZGViYTQtMjU3YS00MWQ0LTgyNDgtM2I4NThhOTljMWUz',\n",
       " 'ZjZlMmU4YjMtZTgzMy00ZWNjLWFlNGEtYTcyNTQwODY4Zjhk',\n",
       " 'YTJkMzg2MDMtZGY1Zi00YjE3LWJhYmItMGY0MTIzZjQ0ZTlj',\n",
       " 'ZmExNTNiYjItYTNkNy00ZmVmLTgxZGMtZDIyZjVmNjU5NjFi',\n",
       " 'OWU2Mzk4NmMtYzYyZC00MTA0LWE1NTMtMjQ1ODJmNDFlZWQ2',\n",
       " 'NzBiZGY0ZmItM2VhMi00Nzk4LThjOTAtNjE5NTI2NmE4NzJh',\n",
       " 'NmM2Mzk3NGMtYjZhNC00NTFhLWE5NGMtYjZkNWU1ZTczYjRl',\n",
       " 'MGY2MDMyNzgtYWZiYi00OTllLWI3YmEtYTFkOGJhYjc4NDVk',\n",
       " 'M2ZmMmIwNzMtYjhhYy00M2YwLTg3YzAtOWE0NTBkNWNjN2Y3',\n",
       " 'MmZjN2Y5ZGItNGE2NS00NTkyLWFmZmUtN2Q1MmMwMWNjNzk1',\n",
       " 'MzFkZGI0NjYtNjliNi00MmQxLTk0YzctOTZkNzYxNTRiYmEx',\n",
       " 'MzNiZWFiYzgtMjQ0NC00NTc1LTg3YzAtZGIyNTAxMGZiZDUy',\n",
       " 'Mzk5ODc0NzMtOTY4Ny00YjZhLTkzZDQtOTI2ODNiZjVhMTQ1',\n",
       " 'ZWE1YmFiZjQtMzY1Ni00ZmZiLThhZGMtNjIyOWFmZjVhZGYx',\n",
       " 'NDBkZGU3NTYtMzM5Ny00NDAwLTk4NDEtNmQ2YzAwOTQ0N2U4',\n",
       " 'YzA2Yzk4ZDctZDRlNi00NDFiLWIwZTEtMzJhZDRhODQ0Zjc0',\n",
       " 'ZTM0YTIyM2UtNmNjNi00ZTZiLThjZTQtNTlkNzU1NTNlNWE5',\n",
       " 'MmI4YzU3ZmUtNjU5NC00ZTA0LWJkMDctNzQ2NzQyMGE2ODE1',\n",
       " 'MzVkNTNhZWItMTNlNy00YmQ0LTg2ZjgtN2M1NTUzYzJlNThm',\n",
       " 'ODRhZDBiNDYtYWMyNy00ZjUyLWEyMWMtMzQxM2EwZDY1ZTJj',\n",
       " 'ODU3MjIyM2ItOWEyYS00N2Q3LThmNzEtYzM5ZDQ4OTU5ZWY2',\n",
       " 'ZDJkNzJlOWItOWMyOC00NzU4LTk5ZTUtNTA4ZjcxN2EwNzY3',\n",
       " 'ZTZjZGZhMTgtNGM0NS00MzBhLTk4ZGItY2U3OGQyMGNlMGIx',\n",
       " 'OTRmMGI4MDktYzUyNS00ZjM4LWIyMjQtMzEwYWNlMTM4Yjc2',\n",
       " 'OGRlYmY3NmUtNTEyMS00ZmU0LTgyODAtOGU4ZTMzNTE3YWJj',\n",
       " 'N2RiM2E2YzUtMmVlNi00NDM1LWE0MDEtMDBmOGZjNmIxYzZk',\n",
       " 'YjhjZjU5NjEtYzdhOC00Yjk0LTk4NzUtZGNhNTFhNDdiOWE0',\n",
       " 'ODg5MjA4NWEtM2FmYy00OGEwLWI5MDctNzYwYzNhOTY3YjZj',\n",
       " 'Y2I3MDU1MTMtMzY0Ni00ZWQ3LTlmYjYtNWNhMDM3NjE2ZjFi',\n",
       " 'ZGEyM2MyMWYtYjY1ZC00MzI2LTg1YzItNjRkZjZjZTU3NDBh',\n",
       " 'NDg4ZGMzZTctZmE0Yi00YmU4LWJjZTQtMTZmMWQ1OTJiNzE3',\n",
       " 'NjNlOTIyOWUtZDQ0OC00OTIwLTgzMzAtYWYxMGI2OTAwNjBh',\n",
       " 'YmEzZGQwYjgtNTBjOC00YzYzLTkyODUtYjYzNGNkZDU2MzRm',\n",
       " 'YzZjZmJhNmEtYzkyNC00ODlhLWFkZDItZDkyYmUwOTc3YTE1',\n",
       " 'MjBjN2VmZmYtYmJjMS00ZmNkLWIzYjYtNzg2MWE1ODFmMDYx',\n",
       " 'OGUyM2VhY2YtYWJjZC00N2Q2LWJjMmQtYWNmMDUwZTE5OWUw',\n",
       " 'Y2M5YzZmOWUtOGJhOS00Mjc2LWE2OTktMGQzYTViOGRiM2U3',\n",
       " 'ZDJkZWUxYzUtMmM3My00OGU2LWIxNmItOWZhNjJmNTI4OGUw',\n",
       " 'MWY1Y2QzNjQtNDQ1Ny00YzYwLTg2NGEtNGE1N2JkNWQ2Y2Vk',\n",
       " 'ZDVlNDdkMzQtYzYxYi00OGY2LWExNDMtMWQ0NGFkMTJlMDli',\n",
       " 'Mjg0YTliMGEtMzZkYS00ZjQ2LWFkMTktOTk0ZDI3MWQ1YmI0',\n",
       " 'NzMzODZjMmQtODEzOS00MWRhLWI1MmYtNDgwNzIwOGM0Yjg3',\n",
       " 'N2E4ZjlkODItMjVhMi00MzJkLWIyZjYtM2U4MzRhOTFiMmY1',\n",
       " 'NWY3NjYzMDYtY2I2Ni00OTgyLWJjM2UtMDc5MGJlY2UyZTJi',\n",
       " 'ZDBmMTQwY2EtMjBhZS00ZWRlLTgzZWMtZmM2MzY2ZWE0ZDk3',\n",
       " 'MjU4MjY0NTYtOThmYi00NWZhLWFkN2ItYmZjZWUzNzRiOWMz',\n",
       " 'YTI2NmQ4OWItNjNkZi00Y2Q2LTgxNDktMjViZjRiZTZhNDJm',\n",
       " 'MDNhOTYyZTUtZDk3Mi00NzRhLWEwYTktZDkzNGM4NmU0YzMz',\n",
       " 'M2U3YWQ5N2EtY2ZjMS00YjQ2LWFiY2QtOGFkMGY0ZTkzZDkx',\n",
       " 'YWQ1N2ZhYzgtZGEyYS00MTA4LWEyZDgtYzRjN2JjMzE3YTY3',\n",
       " 'YjkyOGI1NWQtMzJlOS00MjMzLTgyNjUtMjhkZmQxNjUzMWI3',\n",
       " 'YTlmOGUyZTgtNDFlYi00NjUwLTg3MzMtMGRlYzNlM2I1MDVi',\n",
       " 'NDdkYjdlYmUtNGEzNC00MTA1LTg4N2QtNTIzZTUzNjJkNzFk',\n",
       " 'NTFkZTE3OGYtZGI1NC00OTk4LTk5MWQtMWY2MjhhMzAzMTMx',\n",
       " 'NzEyNzcyODItMjFjMC00YjUwLWEzMzctMTQzYjc0Y2ZmNmQx',\n",
       " 'MGQzYzFjOGItYWM5Mi00NjQzLWFlOGItOTEzMTcwNWJmZTZh',\n",
       " 'MjY5MTMzOGUtYjIyYS00NjhmLWJlZDYtMDUxZjdjZTNkYWQ1',\n",
       " 'NDkxMzVjZTktNDYwZC00NDQ3LWE5NmUtMjk5ZDNiYmEyYjY3',\n",
       " 'YjBlOWVlYjctMDFhZC00Mzg0LWE1ZTItMDNjNDg2NWMwNjA0',\n",
       " 'OTE2OGVmMTYtNDliZC00NTE4LWJlNjctMDYyNTY5NzI2YTZj',\n",
       " 'NDY3NGJmYmMtN2E0ZC00YjQ2LWE3ODMtMTFmZGQ0MzBjZjQ1',\n",
       " 'MTg1ZTRjMGItNWZkNy00YzAyLWJiMzktN2FmNzM1ZWQ2MTE5',\n",
       " 'NTRlODY0OGQtODAwOC00MmRmLTllZWMtM2Q2Yjg2ZWIwZjg3',\n",
       " 'YmY2MDI4ZTAtNjcxNi00ZTM5LWIzOGYtZjM4YjlhOTJhZTUz',\n",
       " 'OTQxMjIzOTctMmM2NS00YTM3LTk3NjMtYzZlYjlmYzA2MmU2',\n",
       " 'NTczYTI3NGMtMzlhZS00MWZmLWI0ZmItYTg0ZWM2NjU5YWJi',\n",
       " 'YmJjOTc2MTgtMGY2OS00YWRhLTk0ZjEtYmZiYWZjMDhlMzYx',\n",
       " 'NTlmMDM3MTctZTZlMy00ZTY5LTg4YTgtMjJmMTEwMTQ1ZDY1',\n",
       " 'NjVhNTU1MzEtYjIzNy00Mjc0LTk2OTctOTQzMzgwYTQwNGM2',\n",
       " 'MTIyMTY3MGUtMzM5ZC00ZWMyLTk3MjQtMGI3YmE4NWJmNTY0',\n",
       " 'ZmQxNTY5OWMtNjQ2Yi00MDdlLWFlNjUtYmU5MGI2MzQxMDA0']"
      ]
     },
     "execution_count": 44,
     "metadata": {},
     "output_type": "execute_result"
    }
   ],
   "source": [
    "vector_store.add_documents(documents=all_splits[:200])"
   ]
  },
  {
   "cell_type": "markdown",
   "metadata": {},
   "source": [
    "Once we've instantiated a VectorStore that contains documents, we can query it. VectorStore includes methods for querying:\n",
    "\n",
    "* Synchronously and asynchronously;\n",
    "* By string query and by vector;\n",
    "* With and without returning similarity scores;\n",
    "* By similarity and maximum marginal relevance (to balance similarity with query to diversity in retrieved results)."
   ]
  },
  {
   "cell_type": "markdown",
   "metadata": {},
   "source": [
    "## Perform a vector similarity search with relevance scores\n",
    "\n",
    "Execute a pure vector similarity search using the `similarity_search_with_relevance_scores()` method. Queries that don't meet the threshold requirements are exluded."
   ]
  },
  {
   "cell_type": "code",
   "execution_count": 45,
   "metadata": {},
   "outputs": [
    {
     "name": "stdout",
     "output_type": "stream",
     "text": [
      "[(Document(metadata={'id': 'YWU3OGQyODktNzAxOC00OGY4LTgxYzUtNmE5Yjg1MTRiYmI5', 'producer': 'Adobe PDF Library 15.0', 'creator': 'Adobe InDesign 16.0 (Windows)', 'creationdate': '2021-06-17T13:34:27+05:30', 'author': 'Ritesh Modi', 'moddate': '2021-06-17T14:21:14+05:30', 'subject': 'Create secure, scalable, high-availability applications on the cloud', 'title': 'Azure for Architects, Third Edition', 'trapped': '/False', 'source': './example_data/azure-for-architects.pdf', 'total_pages': 701, 'page': 1, 'page_label': 'a', 'start_index': 0}, page_content='Ritesh Modi, Jack Lee, and Rithin Skaria\\nCreate secure, scalable, high-availability \\napplications on the cloud\\nAzure for Architects\\nThird Edition'),\n",
      "  0.77307135),\n",
      " (Document(metadata={'id': 'MjM2OWE1MWUtMTU0My00OTdjLWI5NWMtNmNiMTcwYzFhOGZj', 'producer': 'Adobe PDF Library 15.0', 'creator': 'Adobe InDesign 16.0 (Windows)', 'creationdate': '2021-06-17T13:34:27+05:30', 'author': 'Ritesh Modi', 'moddate': '2021-06-17T14:21:14+05:30', 'subject': 'Create secure, scalable, high-availability applications on the cloud', 'title': 'Azure for Architects, Third Edition', 'trapped': '/False', 'source': './example_data/azure-for-architects.pdf', 'total_pages': 701, 'page': 28, 'page_label': 'ii', 'start_index': 1872}, page_content='technical certifications. His hobbies are writing books, playing with his daughter, \\nwatching movies, and learning new technologies. He currently lives in Hyderabad, India. \\nYou can follow him on Twitter at @automationnext.\\nJack Lee is a senior Azure certified consultant and an Azure practice lead with a \\npassion for software development, cloud, and DevOps innovations. Jack has been \\nrecognized as a Microsoft MVP for his contributions to the tech community. He \\nhas presented at various user groups and conferences, including the Global Azure \\nBootcamp at Microsoft Canada. Jack is an experienced mentor and judge at hackathons \\nand is also the president of a user group that focuses on Azure, DevOps, and software \\ndevelopment. He is the co-author of Cloud Analytics with Microsoft Azure, published by \\nPackt Publishing. You can follow Jack on Twitter at @jlee_consulting.'),\n",
      "  0.7499432),\n",
      " (Document(metadata={'id': 'ZWE3MTFhYjYtMGE2Yy00ZmVjLThjNzItMjA0MGY3NTU3YzVm', 'producer': 'Adobe PDF Library 15.0', 'creator': 'Adobe InDesign 16.0 (Windows)', 'creationdate': '2021-06-17T13:34:27+05:30', 'author': 'Ritesh Modi', 'moddate': '2021-06-17T14:21:14+05:30', 'subject': 'Create secure, scalable, high-availability applications on the cloud', 'title': 'Azure for Architects, Third Edition', 'trapped': '/False', 'source': './example_data/azure-for-architects.pdf', 'total_pages': 701, 'page': 29, 'page_label': 'iii', 'start_index': 0}, page_content='About Azure for Architects, Third Edition | iii\\nRithin Skaria is an open source evangelist with over 7 years of experience of managing \\nopen source workloads in Azure, AWS, and OpenStack. He is currently working \\nfor Microsoft and is a part of several open source community activities conducted \\nwithin Microsoft. He is a Microsoft Certified Trainer, Linux Foundation Certified \\nEngineer and Administrator, Kubernetes Application Developer and Administrator, \\nand also a Certified OpenStack Administrator. When it comes to Azure, he has four \\ncertifications (solution architecture, Azure administration, DevOps, and security), and \\nhe is also certified in Office 365 administration. He has played a vital role in several \\nopen source deployments, and the administration and migration of these workloads \\nto the cloud. He also co-authored Linux Administration on Azure, published by Packt \\nPublishing. Connect with him on LinkedIn at @rithin-skaria.\\nAbout the Reviewers'),\n",
      "  0.7482719),\n",
      " (Document(metadata={'id': 'NzBlNjYwNTUtNjQ0MC00ZDhiLThlZDQtY2EyOGQ5ZmVjOWJl', 'producer': 'Adobe PDF Library 15.0', 'creator': 'Adobe InDesign 16.0 (Windows)', 'creationdate': '2021-06-17T13:34:27+05:30', 'author': 'Ritesh Modi', 'moddate': '2021-06-17T14:21:14+05:30', 'subject': 'Create secure, scalable, high-availability applications on the cloud', 'title': 'Azure for Architects, Third Edition', 'trapped': '/False', 'source': './example_data/azure-for-architects.pdf', 'total_pages': 701, 'page': 2, 'page_label': 'b', 'start_index': 0}, page_content='Azure for Architects Third Edition\\nCopyright © 2020 Packt Publishing\\nAll rights reserved. No part of this book may be reproduced, stored in a retrieval system, \\nor transmitted in any form or by any means, without the prior written permission of the \\npublisher, except in the case of brief quotations embedded in critical articles or reviews.\\nEvery effort has been made in the preparation of this book to ensure the accuracy of \\nthe information presented. However, the information contained in this book is sold \\nwithout warranty, either express or implied. Neither the authors, nor Packt Publishing, \\nand its dealers and distributors will be held liable for any damages caused or alleged to \\nbe caused directly or indirectly by this book.\\nPackt Publishing has endeavored to provide trademark information about all of the \\ncompanies and products mentioned in this book by the appropriate use of capitals. \\nHowever, Packt Publishing cannot guarantee the accuracy of this information.'),\n",
      "  0.7238531)]\n"
     ]
    }
   ],
   "source": [
    "from pprint import pprint\n",
    "\n",
    "docs_and_scores = vector_store.similarity_search_with_relevance_scores(\n",
    "    query=\"Who are the authors of the book Azure for Architects ?\",\n",
    "    k=4,\n",
    "    score_threshold=0.70,\n",
    ")\n",
    "\n",
    "pprint(docs_and_scores)"
   ]
  },
  {
   "cell_type": "markdown",
   "metadata": {},
   "source": [
    "## Perform a hybrid search\n",
    "\n",
    "`Hybrid search` combines keyword and semantic similarity, marrying the benefits of both approaches.\n",
    "Execute hybrid search using the `search_type` or `hybrid_search()` method. Vector and nonvector text fields are queried in parallel, results are merged, and top matches of the unified result set are returned."
   ]
  },
  {
   "cell_type": "code",
   "execution_count": 48,
   "metadata": {},
   "outputs": [
    {
     "name": "stdout",
     "output_type": "stream",
     "text": [
      "[Document(metadata={'id': 'YWU3OGQyODktNzAxOC00OGY4LTgxYzUtNmE5Yjg1MTRiYmI5', 'producer': 'Adobe PDF Library 15.0', 'creator': 'Adobe InDesign 16.0 (Windows)', 'creationdate': '2021-06-17T13:34:27+05:30', 'author': 'Ritesh Modi', 'moddate': '2021-06-17T14:21:14+05:30', 'subject': 'Create secure, scalable, high-availability applications on the cloud', 'title': 'Azure for Architects, Third Edition', 'trapped': '/False', 'source': './example_data/azure-for-architects.pdf', 'total_pages': 701, 'page': 1, 'page_label': 'a', 'start_index': 0}, page_content='Ritesh Modi, Jack Lee, and Rithin Skaria\\nCreate secure, scalable, high-availability \\napplications on the cloud\\nAzure for Architects\\nThird Edition'),\n",
      " Document(metadata={'id': 'ZWE3MTFhYjYtMGE2Yy00ZmVjLThjNzItMjA0MGY3NTU3YzVm', 'producer': 'Adobe PDF Library 15.0', 'creator': 'Adobe InDesign 16.0 (Windows)', 'creationdate': '2021-06-17T13:34:27+05:30', 'author': 'Ritesh Modi', 'moddate': '2021-06-17T14:21:14+05:30', 'subject': 'Create secure, scalable, high-availability applications on the cloud', 'title': 'Azure for Architects, Third Edition', 'trapped': '/False', 'source': './example_data/azure-for-architects.pdf', 'total_pages': 701, 'page': 29, 'page_label': 'iii', 'start_index': 0}, page_content='About Azure for Architects, Third Edition | iii\\nRithin Skaria is an open source evangelist with over 7 years of experience of managing \\nopen source workloads in Azure, AWS, and OpenStack. He is currently working \\nfor Microsoft and is a part of several open source community activities conducted \\nwithin Microsoft. He is a Microsoft Certified Trainer, Linux Foundation Certified \\nEngineer and Administrator, Kubernetes Application Developer and Administrator, \\nand also a Certified OpenStack Administrator. When it comes to Azure, he has four \\ncertifications (solution architecture, Azure administration, DevOps, and security), and \\nhe is also certified in Office 365 administration. He has played a vital role in several \\nopen source deployments, and the administration and migration of these workloads \\nto the cloud. He also co-authored Linux Administration on Azure, published by Packt \\nPublishing. Connect with him on LinkedIn at @rithin-skaria.\\nAbout the Reviewers'),\n",
      " Document(metadata={'id': 'MjM2OWE1MWUtMTU0My00OTdjLWI5NWMtNmNiMTcwYzFhOGZj', 'producer': 'Adobe PDF Library 15.0', 'creator': 'Adobe InDesign 16.0 (Windows)', 'creationdate': '2021-06-17T13:34:27+05:30', 'author': 'Ritesh Modi', 'moddate': '2021-06-17T14:21:14+05:30', 'subject': 'Create secure, scalable, high-availability applications on the cloud', 'title': 'Azure for Architects, Third Edition', 'trapped': '/False', 'source': './example_data/azure-for-architects.pdf', 'total_pages': 701, 'page': 28, 'page_label': 'ii', 'start_index': 1872}, page_content='technical certifications. His hobbies are writing books, playing with his daughter, \\nwatching movies, and learning new technologies. He currently lives in Hyderabad, India. \\nYou can follow him on Twitter at @automationnext.\\nJack Lee is a senior Azure certified consultant and an Azure practice lead with a \\npassion for software development, cloud, and DevOps innovations. Jack has been \\nrecognized as a Microsoft MVP for his contributions to the tech community. He \\nhas presented at various user groups and conferences, including the Global Azure \\nBootcamp at Microsoft Canada. Jack is an experienced mentor and judge at hackathons \\nand is also the president of a user group that focuses on Azure, DevOps, and software \\ndevelopment. He is the co-author of Cloud Analytics with Microsoft Azure, published by \\nPackt Publishing. You can follow Jack on Twitter at @jlee_consulting.')]\n"
     ]
    }
   ],
   "source": [
    "# Perform a hybrid search using the search_type parameter\n",
    "docs = vector_store.similarity_search(\n",
    "    query=\"Who are the authors of the book Azure for Architects ?\",\n",
    "    k=3,\n",
    "    search_type=\"hybrid\",\n",
    ")\n",
    "pprint(docs)"
   ]
  },
  {
   "cell_type": "markdown",
   "metadata": {},
   "source": [
    "## Retrieval and Generation using LangGraph\n",
    "\n",
    "Now let’s write the actual application logic. We want to create a simple application that takes a user question, searches for documents relevant to that question, passes the retrieved documents and initial question to a model, and returns an answer.\n",
    "\n",
    "For generation, we will use the chat model selected at the start of the tutorial.\n",
    "\n",
    "We’ll use a prompt for `RAG` that is checked into the `LangChain` prompt hub."
   ]
  },
  {
   "cell_type": "code",
   "execution_count": 49,
   "metadata": {},
   "outputs": [
    {
     "name": "stdout",
     "output_type": "stream",
     "text": [
      "Note: you may need to restart the kernel to use updated packages.\n"
     ]
    }
   ],
   "source": [
    "%pip install --quiet --upgrade langgraph"
   ]
  },
  {
   "cell_type": "code",
   "execution_count": 50,
   "metadata": {},
   "outputs": [],
   "source": [
    "from langchain_openai import AzureChatOpenAI\n",
    "from langchain import hub\n",
    "\n",
    "llm = AzureChatOpenAI(\n",
    "    azure_endpoint=os.environ[\"AZURE_OPENAI_ENDPOINT\"],\n",
    "    openai_api_key=os.environ[\"AZURE_OPENAI_API_KEY\"],\n",
    "    azure_deployment=os.environ[\"AZURE_OPENAI_DEPLOYMENT_NAME\"],\n",
    "    openai_api_version=os.environ[\"AZURE_OPENAI_API_VERSION\"],\n",
    ")"
   ]
  },
  {
   "cell_type": "code",
   "execution_count": 51,
   "metadata": {},
   "outputs": [
    {
     "name": "stderr",
     "output_type": "stream",
     "text": [
      "c:\\Users\\hodellai\\AppData\\Local\\Programs\\Python\\Python312\\Lib\\site-packages\\langsmith\\client.py:253: LangSmithMissingAPIKeyWarning: API key must be provided when using hosted LangSmith API\n",
      "  warnings.warn(\n"
     ]
    },
    {
     "name": "stdout",
     "output_type": "stream",
     "text": [
      "The authors of the book *Azure for Architects* (Third Edition), published in 2020, are Rithin Skaria and Ritesh Modi.\n"
     ]
    }
   ],
   "source": [
    "# Define prompt for question-answering\n",
    "prompt = hub.pull(\"rlm/rag-prompt\")\n",
    "\n",
    "question = \"Who are the authors of the book Azure for Architects and when it was published ?\"\n",
    "\n",
    "retrieved_docs = vector_store.similarity_search(question)\n",
    "docs_content = \"\\n\\n\".join(doc.page_content for doc in retrieved_docs)\n",
    "prompt = prompt.invoke({\"question\": question, \"context\": docs_content})\n",
    "answer = llm.invoke(prompt)\n",
    "\n",
    "print(answer.content)"
   ]
  },
  {
   "cell_type": "code",
   "execution_count": 52,
   "metadata": {},
   "outputs": [
    {
     "name": "stderr",
     "output_type": "stream",
     "text": [
      "c:\\Users\\hodellai\\AppData\\Local\\Programs\\Python\\Python312\\Lib\\site-packages\\langsmith\\client.py:253: LangSmithMissingAPIKeyWarning: API key must be provided when using hosted LangSmith API\n",
      "  warnings.warn(\n"
     ]
    },
    {
     "name": "stdout",
     "output_type": "stream",
     "text": [
      "The authors of the book *Azure for Architects, Third Edition* are Ritesh Modi, Jack Lee, and Rithin Skaria. It was published in 2020.\n"
     ]
    }
   ],
   "source": [
    "from langchain_openai import AzureChatOpenAI\n",
    "from langchain import hub\n",
    "from langgraph.graph import START, StateGraph\n",
    "from typing_extensions import List, TypedDict\n",
    "\n",
    "llm = AzureChatOpenAI(\n",
    "    azure_endpoint=os.environ[\"AZURE_OPENAI_ENDPOINT\"],\n",
    "    openai_api_key=os.environ[\"AZURE_OPENAI_API_KEY\"],\n",
    "    azure_deployment=os.environ[\"AZURE_OPENAI_DEPLOYMENT_NAME\"],\n",
    "    openai_api_version=os.environ[\"AZURE_OPENAI_API_VERSION\"],\n",
    ")\n",
    "\n",
    "# Define prompt for question-answering\n",
    "prompt = hub.pull(\"rlm/rag-prompt\")\n",
    "\n",
    "# Define state for application\n",
    "class State(TypedDict):\n",
    "    question: str\n",
    "    context: List[Document]\n",
    "    answer: str\n",
    "\n",
    "\n",
    "# Define application steps\n",
    "def retrieve(state: State):\n",
    "    retrieved_docs = vector_store.similarity_search(state[\"question\"])\n",
    "    return {\"context\": retrieved_docs}\n",
    "\n",
    "\n",
    "def generate(state: State):\n",
    "    docs_content = \"\\n\\n\".join(doc.page_content for doc in state[\"context\"])\n",
    "    messages = prompt.invoke({\"question\": state[\"question\"], \"context\": docs_content})\n",
    "    response = llm.invoke(messages)\n",
    "    return {\"answer\": response.content}\n",
    "\n",
    "\n",
    "# Compile application and test\n",
    "graph_builder = StateGraph(State).add_sequence([retrieve, generate])\n",
    "graph_builder.add_edge(START, \"retrieve\")\n",
    "graph = graph_builder.compile()\n",
    "\n",
    "response = graph.invoke({\"question\": \"Who are the authors of the book Azure for Architects and when it was published ?\"})\n",
    "\n",
    "print(response[\"answer\"])"
   ]
  },
  {
   "cell_type": "markdown",
   "metadata": {},
   "source": [
    "LangGraph also comes with built-in utilities for visualizing the control flow of your application."
   ]
  },
  {
   "cell_type": "code",
   "execution_count": 53,
   "metadata": {},
   "outputs": [
    {
     "data": {
      "image/png": "[encoded data removed]",
      "text/plain": [
       "<IPython.core.display.Image object>"
      ]
     },
     "metadata": {},
     "output_type": "display_data"
    }
   ],
   "source": [
    "from IPython.display import Image, display\n",
    "\n",
    "display(Image(graph.get_graph().draw_mermaid_png()))"
   ]
  }
 ],
 "metadata": {
  "kernelspec": {
   "display_name": "Python 3",
   "language": "python",
   "name": "python3"
  },
  "language_info": {
   "codemirror_mode": {
    "name": "ipython",
    "version": 3
   },
   "file_extension": ".py",
   "mimetype": "text/x-python",
   "name": "python",
   "nbconvert_exporter": "python",
   "pygments_lexer": "ipython3",
   "version": "3.12.9"
  }
 },
 "nbformat": 4,
 "nbformat_minor": 2
}
