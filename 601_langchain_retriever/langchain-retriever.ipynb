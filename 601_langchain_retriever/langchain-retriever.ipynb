{
 "cells": [
  {
   "cell_type": "markdown",
   "metadata": {},
   "source": [
    "# Build a semantic search engine\n",
    "\n",
    "This tutorial will familiarize you with LangChain's document loader, embedding, and vector store abstractions. These abstractions are designed to support retrieval of data-- from (vector) databases and other sources-- for integration with LLM workflows. They are important for applications that fetch data to be reasoned over as part of model inference, as in the case of retrieval-augmented generation, or RAG (see our RAG tutorial here).\n",
    "\n",
    "Here we will build a search engine over a PDF document. This will allow us to retrieve passages in the PDF that are similar to an input query.\n",
    "\n",
    "## Prerequisites\n",
    "\n",
    "You will need to provision the following Azure resources:\n",
    "* Azure OpenAI with two models: GPT-4o and Embedding model.\n",
    "* Azure AI Search.\n",
    "You can run the terraform template from folder `../400_azure_ai_foundry` to create all of these resources by simply running the following commands.\n",
    "\n",
    "```sh\n",
    "terraform init\n",
    "terraform plan -out tfplan\n",
    "terraform apply tfplan\n",
    "```\n",
    "\n",
    "This tutorial requires the langchain-community and pypdf packages."
   ]
  },
  {
   "cell_type": "code",
   "execution_count": 46,
   "metadata": {},
   "outputs": [
    {
     "name": "stdout",
     "output_type": "stream",
     "text": [
      "Note: you may need to restart the kernel to use updated packages.\n"
     ]
    }
   ],
   "source": [
    "%pip install langchain-community pypdf --quiet"
   ]
  },
  {
   "cell_type": "markdown",
   "metadata": {},
   "source": [
    "## Documents and Document Loaders\n",
    "\n",
    "LangChain implements a Document abstraction, which is intended to represent a unit of text and associated metadata. It has three attributes:\n",
    "\n",
    "page_content: a string representing the content;\n",
    "metadata: a dict containing arbitrary metadata;\n",
    "id: (optional) a string identifier for the document.\n",
    "The metadata attribute can capture information about the source of the document, its relationship to other documents, and other information. Note that an individual Document object often represents a chunk of a larger document.\n",
    "\n",
    "We can generate sample documents when desired."
   ]
  },
  {
   "cell_type": "code",
   "execution_count": 5,
   "metadata": {},
   "outputs": [],
   "source": [
    "from langchain_core.documents import Document\n",
    "\n",
    "documents = [\n",
    "    Document(\n",
    "        page_content=\"Dogs are great companions, known for their loyalty and friendliness.\",\n",
    "        metadata={\"source\": \"mammal-pets-doc\"},\n",
    "    ),\n",
    "    Document(\n",
    "        page_content=\"Cats are independent pets that often enjoy their own space.\",\n",
    "        metadata={\"source\": \"mammal-pets-doc\"},\n",
    "    ),\n",
    "]"
   ]
  },
  {
   "cell_type": "markdown",
   "metadata": {},
   "source": [
    "## Loading documents\n",
    "\n",
    "Let's load a PDF into a sequence of Document objects. There is a sample PDF in the LangChain repo here -- a 10-k filing for Nike from 2023. We can consult the LangChain documentation for available PDF document loaders. Let's select PyPDFLoader, which is fairly lightweight."
   ]
  },
  {
   "cell_type": "code",
   "execution_count": 12,
   "metadata": {},
   "outputs": [
    {
     "name": "stdout",
     "output_type": "stream",
     "text": [
      "701\n"
     ]
    }
   ],
   "source": [
    "from langchain_community.document_loaders import PyPDFLoader\n",
    "\n",
    "file_path = \"./example_data/azure-for-architects.pdf\" #nke-10k-2023.pdf\"\n",
    "loader = PyPDFLoader(file_path)\n",
    "\n",
    "docs = loader.load()\n",
    "\n",
    "print(len(docs))"
   ]
  },
  {
   "cell_type": "markdown",
   "metadata": {},
   "source": [
    "PyPDFLoader loads one Document object per PDF page. For each, we can easily access:\n",
    "\n",
    "* The string content of the page;\n",
    "* Metadata containing the file name and page number."
   ]
  },
  {
   "cell_type": "code",
   "execution_count": 14,
   "metadata": {},
   "outputs": [
    {
     "name": "stdout",
     "output_type": "stream",
     "text": [
      "Ritesh Modi, Jack Lee, and Rithin Skaria\n",
      "Create secure, scalable, high-availability \n",
      "applications on the cloud\n",
      "Azure for Architects\n",
      "Third Edition\n",
      "\n",
      "{'producer': 'Adobe PDF Library 15.0', 'creator': 'Adobe InDesign 16.0 (Windows)', 'creationdate': '2021-06-17T13:34:27+05:30', 'author': 'Ritesh Modi', 'moddate': '2021-06-17T14:21:14+05:30', 'subject': 'Create secure, scalable, high-availability applications on the cloud', 'title': 'Azure for Architects, Third Edition', 'trapped': '/False', 'source': './example_data/azure-for-architects.pdf', 'total_pages': 701, 'page': 1, 'page_label': 'a'}\n"
     ]
    }
   ],
   "source": [
    "print(f\"{docs[1].page_content[:200]}\\n\")\n",
    "print(docs[1].metadata)"
   ]
  },
  {
   "cell_type": "markdown",
   "metadata": {},
   "source": [
    "## Splitting\n",
    "\n",
    "For both information retrieval and downstream question-answering purposes, a page may be too coarse a representation. Our goal in the end will be to retrieve `Document` objects that answer an input query, and further splitting our PDF will help ensure that the meanings of relevant portions of the document are not \"washed out\" by surrounding text.\n",
    "\n",
    "We can use text splitters for this purpose. Here we will use a simple text splitter that partitions based on characters. We will split our documents into chunks of 1000 characters with 200 characters of overlap between chunks. The overlap helps mitigate the possibility of separating a statement from important context related to it. We use the RecursiveCharacterTextSplitter, which will recursively split the document using common separators like new lines until each chunk is the appropriate size. This is the recommended text splitter for generic text use cases.\n",
    "\n",
    "We set `add_start_index=True` so that the character index where each split Document starts within the initial Document is preserved as metadata attribute “start_index”."
   ]
  },
  {
   "cell_type": "code",
   "execution_count": null,
   "metadata": {},
   "outputs": [
    {
     "name": "stdout",
     "output_type": "stream",
     "text": [
      "Number of splits:  1473\n",
      "how long the message should be stored, the size of the message, latency, and cost. \n",
      "Azure Service Bus provides support for 256 KB messages, while Queue storage provides \n",
      "support for 64 KB messages. Azure Service Bus can store messages for an unlimited \n",
      "period, while Queue storage can store messages for 7 days. The cost and latency are \n",
      "higher with Service Bus queues.\n",
      "Depending on your application's requirements and needs, the preceding factors \n",
      "should be considered before deciding on the best queue. In the next section, we will be \n",
      "discussing different types of messaging patterns.\n"
     ]
    }
   ],
   "source": [
    "from langchain_text_splitters import RecursiveCharacterTextSplitter\n",
    "\n",
    "text_splitter = RecursiveCharacterTextSplitter(\n",
    "    chunk_size=1000, chunk_overlap=200, add_start_index=True\n",
    ")\n",
    "all_splits = text_splitter.split_documents(docs)\n",
    "\n",
    "print(\"Number of splits: \", len(all_splits))"
   ]
  },
  {
   "cell_type": "markdown",
   "metadata": {},
   "source": [
    "View a sample split or chunk."
   ]
  },
  {
   "cell_type": "code",
   "execution_count": null,
   "metadata": {},
   "outputs": [
    {
     "name": "stdout",
     "output_type": "stream",
     "text": [
      "page_content='sender, stored in durable storage, and finally consumed by recipients.\n",
      "The top architectural concerns addressed by messaging patterns are as follows:\n",
      "• Durability: Messages are stored in durable storage, and applications can read \n",
      "them after they are received in case of a failover.\n",
      "• Reliability: Messages help implement reliability as they are persisted on disk and \n",
      "never lost.\n",
      "• Availability of messages: The messages are available for consumption by \n",
      "applications after the restoration of connectivity and before downtime.\n",
      "Azure provides Service Bus queues and topics to implement messaging patterns within \n",
      "applications. Azure Queue storage can also be used for the same purpose. \n",
      "Choosing between Azure Service Bus queues and Queue storage is about deciding on \n",
      "how long the message should be stored, the size of the message, latency, and cost. \n",
      "Azure Service Bus provides support for 256 KB messages, while Queue storage provides' metadata={'producer': 'Adobe PDF Library 15.0', 'creator': 'Adobe InDesign 16.0 (Windows)', 'creationdate': '2021-06-17T13:34:27+05:30', 'author': 'Ritesh Modi', 'moddate': '2021-06-17T14:21:14+05:30', 'subject': 'Create secure, scalable, high-availability applications on the cloud', 'title': 'Azure for Architects, Third Edition', 'trapped': '/False', 'source': './example_data/azure-for-architects.pdf', 'total_pages': 701, 'page': 121, 'page_label': '89', 'start_index': 781}\n",
      "---------------\n",
      "page_content='how long the message should be stored, the size of the message, latency, and cost. \n",
      "Azure Service Bus provides support for 256 KB messages, while Queue storage provides \n",
      "support for 64 KB messages. Azure Service Bus can store messages for an unlimited \n",
      "period, while Queue storage can store messages for 7 days. The cost and latency are \n",
      "higher with Service Bus queues.\n",
      "Depending on your application's requirements and needs, the preceding factors \n",
      "should be considered before deciding on the best queue. In the next section, we will be \n",
      "discussing different types of messaging patterns.' metadata={'producer': 'Adobe PDF Library 15.0', 'creator': 'Adobe InDesign 16.0 (Windows)', 'creationdate': '2021-06-17T13:34:27+05:30', 'author': 'Ritesh Modi', 'moddate': '2021-06-17T14:21:14+05:30', 'subject': 'Create secure, scalable, high-availability applications on the cloud', 'title': 'Azure for Architects, Third Edition', 'trapped': '/False', 'source': './example_data/azure-for-architects.pdf', 'total_pages': 701, 'page': 121, 'page_label': '89', 'start_index': 1550}\n"
     ]
    }
   ],
   "source": [
    "# print a sample chunk\n",
    "print(all_splits[309])\n",
    "print(\"---------------\")\n",
    "print(all_splits[310])"
   ]
  },
  {
   "cell_type": "markdown",
   "metadata": {},
   "source": [
    "## Embeddings\n",
    "\n",
    "Vector search is a common way to store and search over unstructured data (such as unstructured text). The idea is to store numeric vectors that are associated with the text. Given a query, we can embed it as a vector of the same dimension and use vector similarity metrics (such as cosine similarity) to identify related text.\n",
    "\n",
    "LangChain supports embeddings from dozens of providers. These models specify how text should be converted into a numeric vector. "
   ]
  },
  {
   "cell_type": "code",
   "execution_count": 30,
   "metadata": {},
   "outputs": [
    {
     "name": "stdout",
     "output_type": "stream",
     "text": [
      "Note: you may need to restart the kernel to use updated packages.\n",
      "Requirement already satisfied: python-dotenv in c:\\users\\hodellai\\appdata\\local\\programs\\python\\python312\\lib\\site-packages (1.0.1)\n",
      "Note: you may need to restart the kernel to use updated packages.\n"
     ]
    }
   ],
   "source": [
    "%pip install -qU langchain-openai\n",
    "%pip install python-dotenv"
   ]
  },
  {
   "cell_type": "code",
   "execution_count": 48,
   "metadata": {},
   "outputs": [],
   "source": [
    "import os\n",
    "from langchain_openai import AzureOpenAIEmbeddings\n",
    "from dotenv import load_dotenv\n",
    "\n",
    "if os.path.exists(\".env\"):\n",
    "    load_dotenv(override=True)\n",
    "\n",
    "\n",
    "embeddings = AzureOpenAIEmbeddings(\n",
    "    azure_endpoint=os.environ[\"AZURE_OPENAI_ENDPOINT\"],\n",
    "    openai_api_key=os.environ[\"AZURE_OPENAI_API_KEY\"],\n",
    "    azure_deployment=os.environ[\"AZURE_OPENAI_EMBEDDING_MODEL\"],\n",
    "    openai_api_version=os.environ[\"AZURE_OPENAI_EMBEDDING_API_VERSION\"],\n",
    ")"
   ]
  },
  {
   "cell_type": "code",
   "execution_count": 43,
   "metadata": {},
   "outputs": [
    {
     "name": "stdout",
     "output_type": "stream",
     "text": [
      "Generated vectors of length 3072\n",
      "\n",
      "[0.010515968315303326, -0.01905210129916668, -0.017833741381764412, 0.022737640887498856, 0.008901641704142094, -0.006392581854015589, -0.011467811651527882, 0.024169212207198143, -0.0178185123950243, 0.02282901667058468]\n"
     ]
    }
   ],
   "source": [
    "vector_1 = embeddings.embed_query(all_splits[0].page_content)\n",
    "vector_2 = embeddings.embed_query(all_splits[1].page_content)\n",
    "\n",
    "assert len(vector_1) == len(vector_2)\n",
    "print(f\"Generated vectors of length {len(vector_1)}\\n\")\n",
    "print(vector_1[:10])"
   ]
  },
  {
   "cell_type": "markdown",
   "metadata": {},
   "source": [
    "Armed with a model for generating text embeddings, we can next store them in a special data structure that supports efficient similarity search.\n",
    "\n",
    "## Vector stores\n",
    "\n",
    "LangChain VectorStore objects contain methods for adding text and `Document` objects to the store, and querying them using various similarity metrics. They are often initialized with embedding models, which determine how text data is translated to numeric vectors.\n",
    "\n",
    "LangChain includes a suite of integrations with different vector store technologies. Some vector stores are hosted by a provider (e.g., various cloud providers) and require specific credentials to use; some (such as Postgres) run in separate infrastructure that can be run locally or via a third-party; others can run in-memory for lightweight workloads."
   ]
  },
  {
   "cell_type": "code",
   "execution_count": 41,
   "metadata": {},
   "outputs": [
    {
     "name": "stdout",
     "output_type": "stream",
     "text": [
      "Note: you may need to restart the kernel to use updated packages.\n",
      "Note: you may need to restart the kernel to use updated packages.\n"
     ]
    }
   ],
   "source": [
    "%pip install --upgrade --quiet  azure-search-documents\n",
    "%pip install --upgrade --quiet  azure-identity"
   ]
  },
  {
   "cell_type": "code",
   "execution_count": null,
   "metadata": {},
   "outputs": [],
   "source": [
    "from langchain_community.vectorstores.azuresearch import AzureSearch\n",
    "from langchain_openai import AzureOpenAIEmbeddings, AzureOpenAIEmbeddings\n",
    "\n",
    "embeddings: AzureOpenAIEmbeddings = AzureOpenAIEmbeddings(\n",
    "    azure_deployment=os.environ[\"AZURE_OPENAI_EMBEDDING_MODEL\"],\n",
    "    openai_api_version=os.environ[\"AZURE_OPENAI_EMBEDDING_API_VERSION\"],\n",
    "    azure_endpoint=os.environ[\"AZURE_SEARCH_SERVICE_ENDPOINT\"],\n",
    "    api_key=os.environ[\"AZURE_SEARCH_SERVICE_ADMIN_KEY\"],\n",
    ")"
   ]
  },
  {
   "cell_type": "markdown",
   "metadata": {},
   "source": [
    "## Create vector store instance\n",
    "\n",
    "Create instance of the AzureSearch class using the embeddings from above."
   ]
  },
  {
   "cell_type": "code",
   "execution_count": 65,
   "metadata": {},
   "outputs": [],
   "source": [
    "# Specify additional properties for the Azure client such as the following https://github.com/Azure/azure-sdk-for-python/blob/main/sdk/core/azure-core/README.md#configurations\n",
    "vector_store: AzureSearch = AzureSearch(\n",
    "    azure_search_endpoint=os.environ[\"AZURE_SEARCH_SERVICE_ENDPOINT\"],\n",
    "    azure_search_key=os.environ[\"AZURE_SEARCH_SERVICE_ADMIN_KEY\"],\n",
    "    index_name=os.environ[\"AZURE_SEARCH_SERVICE_INDEX\"],\n",
    "    embedding_function=embeddings.embed_query,\n",
    "    # Configure max retries for the Azure client\n",
    "    additional_search_client_options={\"retry_total\": 3},\n",
    "    relevance_score_fn=\"cosine\",\n",
    ")"
   ]
  },
  {
   "cell_type": "markdown",
   "metadata": {},
   "source": [
    "## Insert text and embeddings into vector store\n",
    "\n",
    "This step loads, chunks, and vectorizes the sample document, and then indexes the content into a search index on Azure AI Search."
   ]
  },
  {
   "cell_type": "code",
   "execution_count": 54,
   "metadata": {},
   "outputs": [
    {
     "data": {
      "text/plain": [
       "['MTcwNzU5NDUtNjJhNy00YjE5LWE2YmYtMWI3Y2Y0YjQ3ZjIy',\n",
       " 'NmU0MGFkYmItMDA3Ni00OGE1LThjM2ItNDI3ODFmNGRiMzZl',\n",
       " 'ZjY2NDZkZDgtZTExZi00YWJjLWJmMTQtY2IwOTJhZmM3MDI3',\n",
       " 'MzBlZTZjNDgtN2ZlNi00N2ZkLWEwMjEtMDVlNjIxNDcxMGEz',\n",
       " 'OGJhZTFmNTItYjk4OS00MDU1LTlmMDUtNDE5MzYxZTg2Mjdk',\n",
       " 'MDg1Y2JmMjQtMmZlMS00OTYxLThmZTAtMGI2NzI3NjRmY2Ji',\n",
       " 'OTFkYjRlMTctOTA5ZC00OThmLTg5MzUtMjI5MzQ3YmUyMWEz',\n",
       " 'NWRlMWM5MmYtMGE3Ni00MzFjLWI5NDItMjJlMWNlZDQ5YTNl',\n",
       " 'N2NhYWUxZGMtM2NkMC00OGYyLTg4MDktYWI4NDdiNjcwYWY5',\n",
       " 'MWI2YTUzNDctYTJmMy00YmMzLTgyM2UtNjUzMDQ3MjMxZjI0',\n",
       " 'MTExYzc4ZmQtMzczNy00ODAyLWJkNDQtOGYxZTI0NTQyMjNj',\n",
       " 'ZmEzMTE1NWYtNTVkZS00NGIzLWI0MzAtODNlZGRlODY0ZjM1',\n",
       " 'MDI4ZDBiOTQtZTFiNy00ZjM5LWEzMWItZWZkOTdjZjM2YWZk',\n",
       " 'NzA1MWViOGQtMTU1OS00YTk1LWI1N2EtNTlmYzdkMmU4Nzk2',\n",
       " 'MzQ3MDA4OGUtODc5MC00MDY4LTkyNjUtZWMxYmFhMWZlODFh',\n",
       " 'ZTQwZThkMGEtNzIxMC00OTZiLWFmM2ItMzcwMTY4NmFmNWUy',\n",
       " 'MjVjZTFhZmMtNTc0NS00N2I0LWEyYmYtNmJiZGJlMjgxYWU3',\n",
       " 'ODM0ZTczMmEtYzdmMi00M2I4LTliYjYtZDE0YzdjMmVmMTkw',\n",
       " 'ZTQ2MmNjYzQtN2Y0Yi00MDgzLWEwMDktMjNlOWRkYTM0ODE5',\n",
       " 'NDYzNDIzNjgtNzU4Yy00ZDAwLTgzNjgtNTc1MzZjNmMwNjU4',\n",
       " 'N2FjZDk4NGEtNWMyYy00YTUwLTlkZDktODVlMThmNmQ1OWQ1',\n",
       " 'NDRkODBmYTMtOTkxZC00YTllLWI2OWYtMTFmY2NmMDVjM2M5',\n",
       " 'YTQzN2ZiZGYtNzZlOS00OGJmLWJjOWItMGI0ZDNjOGIxMDYw',\n",
       " 'ZjIzMzBmMDMtMDkyYy00YjlmLWE2NWUtMGY5MGQyYjhjMTY5',\n",
       " 'NmQ1NGMzNGEtMjIyOS00YmVhLTg1YmQtN2FhMjE2N2Q1MTMz',\n",
       " 'YTgyMTJhZDEtYjkyMy00ZjRkLWExNmYtODZmNjE2YzgyOGE1',\n",
       " 'Mjk5NmNlODQtYzE3My00ZjczLWE5M2ItZGMzMzcyOGY0ZDhh',\n",
       " 'MDAyMjhhM2MtYzQzMC00MDk4LWFiZDItNmU4ZjQwZjFjM2Ni',\n",
       " 'MGI0MTllMDEtYjAwZi00NWY4LTkzZjgtNGU4YjJlZmE3ZTg0',\n",
       " 'YzIwZmJjNDQtZGUzMi00ZDhjLWEyMzktZmU4ODBlZWZlMzc5']"
      ]
     },
     "execution_count": 54,
     "metadata": {},
     "output_type": "execute_result"
    }
   ],
   "source": [
    "vector_store.add_documents(documents=all_splits[:30])"
   ]
  },
  {
   "cell_type": "markdown",
   "metadata": {},
   "source": [
    "Once we've instantiated a VectorStore that contains documents, we can query it. VectorStore includes methods for querying:\n",
    "\n",
    "* Synchronously and asynchronously;\n",
    "* By string query and by vector;\n",
    "* With and without returning similarity scores;\n",
    "* By similarity and maximum marginal relevance (to balance similarity with query to diversity in retrieved results).\n",
    "\n",
    "## Perform a vector similarity search\n",
    "\n",
    "Execute a pure vector similarity search using the `similarity_search()` method."
   ]
  },
  {
   "cell_type": "code",
   "execution_count": 66,
   "metadata": {},
   "outputs": [
    {
     "name": "stdout",
     "output_type": "stream",
     "text": [
      "Ritesh Modi, Jack Lee, and Rithin Skaria\n",
      "Create secure, scalable, high-availability \n",
      "applications on the cloud\n",
      "Azure for Architects\n",
      "Third Edition\n"
     ]
    }
   ],
   "source": [
    "# Perform a similarity search\n",
    "docs = vector_store.similarity_search(\n",
    "    query=\"Who are the authors of the book Azure for Architects\",\n",
    "    k=3,\n",
    "    search_type=\"similarity\",\n",
    ")\n",
    "print(docs[0].page_content)"
   ]
  },
  {
   "cell_type": "markdown",
   "metadata": {},
   "source": [
    "## Perform a vector similarity search with relevance scores\n",
    "\n",
    "Execute a pure vector similarity search using the `similarity_search_with_relevance_scores()` method. Queries that don't meet the threshold requirements are exluded."
   ]
  },
  {
   "cell_type": "code",
   "execution_count": 67,
   "metadata": {},
   "outputs": [
    {
     "name": "stdout",
     "output_type": "stream",
     "text": [
      "[(Document(metadata={'id': 'Nzg3Y2JiYzItNjcxZS00NzU1LTlmYzQtMGMxYzY3YmNlYzFi', 'producer': 'Adobe PDF Library 15.0', 'creator': 'Adobe InDesign 16.0 (Windows)', 'creationdate': '2021-06-17T13:34:27+05:30', 'author': 'Ritesh Modi', 'moddate': '2021-06-17T14:21:14+05:30', 'subject': 'Create secure, scalable, high-availability applications on the cloud', 'title': 'Azure for Architects, Third Edition', 'trapped': '/False', 'source': './example_data/azure-for-architects.pdf', 'total_pages': 701, 'page': 1, 'page_label': 'a', 'start_index': 0}, page_content='Ritesh Modi, Jack Lee, and Rithin Skaria\\nCreate secure, scalable, high-availability \\napplications on the cloud\\nAzure for Architects\\nThird Edition'),\n",
      "  0.7745179),\n",
      " (Document(metadata={'id': 'MTcwNzU5NDUtNjJhNy00YjE5LWE2YmYtMWI3Y2Y0YjQ3ZjIy', 'producer': 'Adobe PDF Library 15.0', 'creator': 'Adobe InDesign 16.0 (Windows)', 'creationdate': '2021-06-17T13:34:27+05:30', 'author': 'Ritesh Modi', 'moddate': '2021-06-17T14:21:14+05:30', 'subject': 'Create secure, scalable, high-availability applications on the cloud', 'title': 'Azure for Architects, Third Edition', 'trapped': '/False', 'source': './example_data/azure-for-architects.pdf', 'total_pages': 701, 'page': 1, 'page_label': 'a', 'start_index': 0}, page_content='Ritesh Modi, Jack Lee, and Rithin Skaria\\nCreate secure, scalable, high-availability \\napplications on the cloud\\nAzure for Architects\\nThird Edition'),\n",
      "  0.7745018),\n",
      " (Document(metadata={'id': 'NmU0MGFkYmItMDA3Ni00OGE1LThjM2ItNDI3ODFmNGRiMzZl', 'producer': 'Adobe PDF Library 15.0', 'creator': 'Adobe InDesign 16.0 (Windows)', 'creationdate': '2021-06-17T13:34:27+05:30', 'author': 'Ritesh Modi', 'moddate': '2021-06-17T14:21:14+05:30', 'subject': 'Create secure, scalable, high-availability applications on the cloud', 'title': 'Azure for Architects, Third Edition', 'trapped': '/False', 'source': './example_data/azure-for-architects.pdf', 'total_pages': 701, 'page': 2, 'page_label': 'b', 'start_index': 0}, page_content='Azure for Architects Third Edition\\nCopyright © 2020 Packt Publishing\\nAll rights reserved. No part of this book may be reproduced, stored in a retrieval system, \\nor transmitted in any form or by any means, without the prior written permission of the \\npublisher, except in the case of brief quotations embedded in critical articles or reviews.\\nEvery effort has been made in the preparation of this book to ensure the accuracy of \\nthe information presented. However, the information contained in this book is sold \\nwithout warranty, either express or implied. Neither the authors, nor Packt Publishing, \\nand its dealers and distributors will be held liable for any damages caused or alleged to \\nbe caused directly or indirectly by this book.\\nPackt Publishing has endeavored to provide trademark information about all of the \\ncompanies and products mentioned in this book by the appropriate use of capitals. \\nHowever, Packt Publishing cannot guarantee the accuracy of this information.'),\n",
      "  0.7311663),\n",
      " (Document(metadata={'id': 'OGRmNDZiNDItNDNlNC00ZWJiLTk4NzYtYzAzNDUwZjBlMjY0', 'producer': 'Adobe PDF Library 15.0', 'creator': 'Adobe InDesign 16.0 (Windows)', 'creationdate': '2021-06-17T13:34:27+05:30', 'author': 'Ritesh Modi', 'moddate': '2021-06-17T14:21:14+05:30', 'subject': 'Create secure, scalable, high-availability applications on the cloud', 'title': 'Azure for Architects, Third Edition', 'trapped': '/False', 'source': './example_data/azure-for-architects.pdf', 'total_pages': 701, 'page': 2, 'page_label': 'b', 'start_index': 0}, page_content='Azure for Architects Third Edition\\nCopyright © 2020 Packt Publishing\\nAll rights reserved. No part of this book may be reproduced, stored in a retrieval system, \\nor transmitted in any form or by any means, without the prior written permission of the \\npublisher, except in the case of brief quotations embedded in critical articles or reviews.\\nEvery effort has been made in the preparation of this book to ensure the accuracy of \\nthe information presented. However, the information contained in this book is sold \\nwithout warranty, either express or implied. Neither the authors, nor Packt Publishing, \\nand its dealers and distributors will be held liable for any damages caused or alleged to \\nbe caused directly or indirectly by this book.\\nPackt Publishing has endeavored to provide trademark information about all of the \\ncompanies and products mentioned in this book by the appropriate use of capitals. \\nHowever, Packt Publishing cannot guarantee the accuracy of this information.'),\n",
      "  0.7311663)]\n"
     ]
    }
   ],
   "source": [
    "docs_and_scores = vector_store.similarity_search_with_relevance_scores(\n",
    "    query=\"Who are the authors of the book Azure for Architects\",\n",
    "    k=4,\n",
    "    score_threshold=0.70,\n",
    ")\n",
    "from pprint import pprint\n",
    "\n",
    "pprint(docs_and_scores)"
   ]
  },
  {
   "cell_type": "markdown",
   "metadata": {},
   "source": [
    "## Perform a hybrid search\n",
    "\n",
    "Execute hybrid search using the search_type or hybrid_search() method. Vector and nonvector text fields are queried in parallel, results are merged, and top matches of the unified result set are returned."
   ]
  },
  {
   "cell_type": "code",
   "execution_count": 68,
   "metadata": {},
   "outputs": [
    {
     "name": "stdout",
     "output_type": "stream",
     "text": [
      "Azure for Architects Third Edition\n",
      "Copyright © 2020 Packt Publishing\n",
      "All rights reserved. No part of this book may be reproduced, stored in a retrieval system, \n",
      "or transmitted in any form or by any means, without the prior written permission of the \n",
      "publisher, except in the case of brief quotations embedded in critical articles or reviews.\n",
      "Every effort has been made in the preparation of this book to ensure the accuracy of \n",
      "the information presented. However, the information contained in this book is sold \n",
      "without warranty, either express or implied. Neither the authors, nor Packt Publishing, \n",
      "and its dealers and distributors will be held liable for any damages caused or alleged to \n",
      "be caused directly or indirectly by this book.\n",
      "Packt Publishing has endeavored to provide trademark information about all of the \n",
      "companies and products mentioned in this book by the appropriate use of capitals. \n",
      "However, Packt Publishing cannot guarantee the accuracy of this information.\n"
     ]
    }
   ],
   "source": [
    "# Perform a hybrid search using the search_type parameter\n",
    "docs = vector_store.similarity_search(\n",
    "    query=\"Who are the authors of the book Azure for Architects\",\n",
    "    k=3,\n",
    "    search_type=\"hybrid\",\n",
    ")\n",
    "print(docs[0].page_content)"
   ]
  },
  {
   "cell_type": "markdown",
   "metadata": {},
   "source": [
    "Async query."
   ]
  },
  {
   "cell_type": "code",
   "execution_count": 69,
   "metadata": {},
   "outputs": [
    {
     "name": "stdout",
     "output_type": "stream",
     "text": [
      "page_content='Azure for Architects Third Edition\n",
      "Copyright © 2020 Packt Publishing\n",
      "All rights reserved. No part of this book may be reproduced, stored in a retrieval system, \n",
      "or transmitted in any form or by any means, without the prior written permission of the \n",
      "publisher, except in the case of brief quotations embedded in critical articles or reviews.\n",
      "Every effort has been made in the preparation of this book to ensure the accuracy of \n",
      "the information presented. However, the information contained in this book is sold \n",
      "without warranty, either express or implied. Neither the authors, nor Packt Publishing, \n",
      "and its dealers and distributors will be held liable for any damages caused or alleged to \n",
      "be caused directly or indirectly by this book.\n",
      "Packt Publishing has endeavored to provide trademark information about all of the \n",
      "companies and products mentioned in this book by the appropriate use of capitals. \n",
      "However, Packt Publishing cannot guarantee the accuracy of this information.' metadata={'id': 'OGRmNDZiNDItNDNlNC00ZWJiLTk4NzYtYzAzNDUwZjBlMjY0', 'producer': 'Adobe PDF Library 15.0', 'creator': 'Adobe InDesign 16.0 (Windows)', 'creationdate': '2021-06-17T13:34:27+05:30', 'author': 'Ritesh Modi', 'moddate': '2021-06-17T14:21:14+05:30', 'subject': 'Create secure, scalable, high-availability applications on the cloud', 'title': 'Azure for Architects, Third Edition', 'trapped': '/False', 'source': './example_data/azure-for-architects.pdf', 'total_pages': 701, 'page': 2, 'page_label': 'b', 'start_index': 0}\n"
     ]
    }
   ],
   "source": [
    "results = await vector_store.asimilarity_search(\"When was this book published ?\")\n",
    "\n",
    "print(results[0])"
   ]
  },
  {
   "cell_type": "markdown",
   "metadata": {},
   "source": [
    "Return documents based on similarity to an embedded query."
   ]
  },
  {
   "cell_type": "code",
   "execution_count": 70,
   "metadata": {},
   "outputs": [
    {
     "ename": "NotImplementedError",
     "evalue": "",
     "output_type": "error",
     "traceback": [
      "\u001b[1;31m---------------------------------------------------------------------------\u001b[0m",
      "\u001b[1;31mNotImplementedError\u001b[0m                       Traceback (most recent call last)",
      "Cell \u001b[1;32mIn[70], line 3\u001b[0m\n\u001b[0;32m      1\u001b[0m embedding \u001b[38;5;241m=\u001b[39m embeddings\u001b[38;5;241m.\u001b[39membed_query(\u001b[38;5;124m\"\u001b[39m\u001b[38;5;124mHow many chapters in this book ?\u001b[39m\u001b[38;5;124m\"\u001b[39m)\n\u001b[1;32m----> 3\u001b[0m results \u001b[38;5;241m=\u001b[39m \u001b[43mvector_store\u001b[49m\u001b[38;5;241;43m.\u001b[39;49m\u001b[43msimilarity_search_by_vector\u001b[49m\u001b[43m(\u001b[49m\u001b[43membedding\u001b[49m\u001b[43m)\u001b[49m\n\u001b[0;32m      4\u001b[0m \u001b[38;5;28mprint\u001b[39m(results[\u001b[38;5;241m0\u001b[39m])\n",
      "File \u001b[1;32mc:\\Users\\hodellai\\AppData\\Local\\Programs\\Python\\Python312\\Lib\\site-packages\\langchain_core\\vectorstores\\base.py:659\u001b[0m, in \u001b[0;36mVectorStore.similarity_search_by_vector\u001b[1;34m(self, embedding, k, **kwargs)\u001b[0m\n\u001b[0;32m    646\u001b[0m \u001b[38;5;28;01mdef\u001b[39;00m\u001b[38;5;250m \u001b[39m\u001b[38;5;21msimilarity_search_by_vector\u001b[39m(\n\u001b[0;32m    647\u001b[0m     \u001b[38;5;28mself\u001b[39m, embedding: \u001b[38;5;28mlist\u001b[39m[\u001b[38;5;28mfloat\u001b[39m], k: \u001b[38;5;28mint\u001b[39m \u001b[38;5;241m=\u001b[39m \u001b[38;5;241m4\u001b[39m, \u001b[38;5;241m*\u001b[39m\u001b[38;5;241m*\u001b[39mkwargs: Any\n\u001b[0;32m    648\u001b[0m ) \u001b[38;5;241m-\u001b[39m\u001b[38;5;241m>\u001b[39m \u001b[38;5;28mlist\u001b[39m[Document]:\n\u001b[0;32m    649\u001b[0m \u001b[38;5;250m    \u001b[39m\u001b[38;5;124;03m\"\"\"Return docs most similar to embedding vector.\u001b[39;00m\n\u001b[0;32m    650\u001b[0m \n\u001b[0;32m    651\u001b[0m \u001b[38;5;124;03m    Args:\u001b[39;00m\n\u001b[1;32m   (...)\u001b[0m\n\u001b[0;32m    657\u001b[0m \u001b[38;5;124;03m        List of Documents most similar to the query vector.\u001b[39;00m\n\u001b[0;32m    658\u001b[0m \u001b[38;5;124;03m    \"\"\"\u001b[39;00m\n\u001b[1;32m--> 659\u001b[0m     \u001b[38;5;28;01mraise\u001b[39;00m \u001b[38;5;167;01mNotImplementedError\u001b[39;00m\n",
      "\u001b[1;31mNotImplementedError\u001b[0m: "
     ]
    }
   ],
   "source": [
    "embedding = embeddings.embed_query(\"How many chapters in this book ?\")\n",
    "\n",
    "results = vector_store.similarity_search_by_vector(embedding)\n",
    "print(results[0])"
   ]
  },
  {
   "cell_type": "markdown",
   "metadata": {},
   "source": [
    "## Layout analysis and extraction of text from images\n",
    "\n",
    "If you require a more granular segmentation of text (e.g., into distinct paragraphs, titles, tables, or other structures) or require extraction of text from images, the method below is appropriate. It will return a list of Document objects, where each object represents a structure on the page. The Document's metadata stores the page number and other information related to the object (e.g., it might store table rows and columns in the case of a table object).\n",
    "\n",
    "Under the hood it uses the langchain-unstructured library. See the integration docs for more information about using Unstructured with LangChain.\n",
    "\n",
    "Unstructured supports multiple parameters for PDF parsing:\n",
    "\n",
    "* strategy (e.g., \"fast\" or \"hi-res\")\n",
    "* API or local processing. You will need an API key to use the API.\n",
    "\n",
    "The hi-res strategy provides support for document layout analysis and OCR. We demonstrate it below via the API. See local parsing section below for considerations when running locally."
   ]
  },
  {
   "cell_type": "code",
   "execution_count": 1,
   "metadata": {},
   "outputs": [
    {
     "name": "stdout",
     "output_type": "stream",
     "text": [
      "Note: you may need to restart the kernel to use updated packages.\n"
     ]
    }
   ],
   "source": [
    "%pip install -qU langchain-unstructured"
   ]
  },
  {
   "cell_type": "code",
   "execution_count": null,
   "metadata": {},
   "outputs": [],
   "source": [
    "# test unstructured\n",
    "%pip install unstructured\n",
    "%pip install \"unstructured[pdf]\""
   ]
  },
  {
   "cell_type": "code",
   "execution_count": null,
   "metadata": {},
   "outputs": [],
   "source": [
    "from unstructured.partition.auto import partition\n",
    "\n",
    "elements = partition(filename=\"./example_data/azure-for-architects.pdf\")\n",
    "\n",
    "print(\"\\n\\n\".join([str(el) for el in elements]))"
   ]
  }
 ],
 "metadata": {
  "kernelspec": {
   "display_name": "Python 3",
   "language": "python",
   "name": "python3"
  },
  "language_info": {
   "codemirror_mode": {
    "name": "ipython",
    "version": 3
   },
   "file_extension": ".py",
   "mimetype": "text/x-python",
   "name": "python",
   "nbconvert_exporter": "python",
   "pygments_lexer": "ipython3",
   "version": "3.12.9"
  }
 },
 "nbformat": 4,
 "nbformat_minor": 2
}
