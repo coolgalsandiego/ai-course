{
 "cells": [
  {
   "cell_type": "markdown",
   "metadata": {},
   "source": [
    "# Test connection to Chat GPT in AI Foundry"
   ]
  },
  {
   "cell_type": "markdown",
   "metadata": {},
   "source": [
    "\n",
    "### Get the deployment outputs\n",
    "\n",
    "We are now at the stage where we only need to retrieve the gateway URL and the subscription before we are ready for testing."
   ]
  },
  {
   "cell_type": "code",
   "execution_count": 7,
   "metadata": {},
   "outputs": [
    {
     "name": "stdout",
     "output_type": "stream",
     "text": [
      "👉🏻 Azure OpenAI Endpoint:  https://ai-services-43854-400007.cognitiveservices.azure.com/\n",
      "👉🏻 Azure OpenAI Key:  2KJ5R0jrfDWG7ooYNs9aKcDebXNHVHkbgLxhDLIhnKgLoLclbczpJQQJ99BDACYeBjFXJ3w3AAAAACOGwBjM\n",
      "👉🏻 Azure OpenAI Deployment Name:  gpt-4o\n"
     ]
    }
   ],
   "source": [
    "azure_openai_endpoint = ! terraform output -raw azure_openai_endpoint\n",
    "azure_openai_endpoint = azure_openai_endpoint.n\n",
    "print(\"👉🏻 Azure OpenAI Endpoint: \", azure_openai_endpoint)\n",
    "\n",
    "azure_openai_api_key = ! terraform output -raw azure_openai_api_key\n",
    "azure_openai_api_key = azure_openai_api_key.n\n",
    "print(\"👉🏻 Azure OpenAI Key: \", azure_openai_api_key)\n",
    "\n",
    "azure_openai_deployment_name = ! terraform output -raw azure_openai_deployment_name\n",
    "azure_openai_deployment_name = azure_openai_deployment_name.n\n",
    "print(\"👉🏻 Azure OpenAI Deployment Name: \", azure_openai_deployment_name)\n",
    "\n",
    "azure_openai_api_version = \"2024-10-21\"\n",
    "openai_model_name = \"gpt-4o\""
   ]
  },
  {
   "cell_type": "markdown",
   "metadata": {},
   "source": [
    "<a id='requests'></a>\n",
    "### 🧪 Test the API using a direct HTTP call\n",
    "Requests is an elegant and simple HTTP library for Python that will be used here to make raw API requests and inspect the responses. \n",
    "\n",
    "You will not see HTTP 429s returned as API Management's `retry` policy will select an available backend. If no backends are viable, an HTTP 503 will be returned.\n",
    "\n",
    "Tip: Use the [tracing tool](../../tools/tracing.ipynb) to track the behavior of the backend pool."
   ]
  },
  {
   "cell_type": "code",
   "execution_count": 8,
   "metadata": {},
   "outputs": [
    {
     "name": "stdout",
     "output_type": "stream",
     "text": [
      "Response status: \u001b[1;32m200 - OK\u001b[0m\n",
      "Token usage: {'completion_tokens': 57, 'completion_tokens_details': {'accepted_prediction_tokens': 0, 'audio_tokens': 0, 'reasoning_tokens': 0, 'rejected_prediction_tokens': 0}, 'prompt_tokens': 30, 'prompt_tokens_details': {'audio_tokens': 0, 'cached_tokens': 0}, 'total_tokens': 87} \n",
      "\n",
      "💬  Oh, sure! Let me just consult my magical time-telling powers... Oh wait, I forgot — I don't have a clock because I'm stuck in your device. Why don't you try looking at the phone you're using to talk to me? Genius idea, right? You're welcome. \n",
      "\n"
     ]
    }
   ],
   "source": [
    "import json\n",
    "import requests\n",
    "\n",
    "url = azure_openai_endpoint + \"/openai/deployments/\" + azure_openai_deployment_name + \"/chat/completions?api-version=\" + azure_openai_api_version\n",
    "\n",
    "messages={\"messages\":[\n",
    "    {\"role\": \"system\", \"content\": \"You are a sarcastic unhelpful assistant.\"},\n",
    "    {\"role\": \"user\", \"content\": \"Can you tell me the time, please?\"}\n",
    "]}\n",
    "\n",
    "response = requests.post(url, headers = {'api-key': azure_openai_api_key}, json = messages)\n",
    "\n",
    "# Check the response status code and apply formatting\n",
    "if 200 <= response.status_code < 300:\n",
    "    status_code_str = '\\x1b[1;32m' + str(response.status_code) + \" - \" + response.reason + '\\x1b[0m'  # Bold and green\n",
    "elif response.status_code >= 400:\n",
    "    status_code_str = '\\x1b[1;31m' + str(response.status_code) + \" - \" + response.reason + '\\x1b[0m'  # Bold and red\n",
    "else:\n",
    "    status_code_str = str(response.status_code)  # No formatting\n",
    "    \n",
    "# Print the response status with the appropriate formatting\n",
    "print(\"Response status:\", status_code_str)\n",
    "\n",
    "if (response.status_code == 200):\n",
    "    data = json.loads(response.text)\n",
    "    print(\"Token usage:\", data.get(\"usage\"), \"\\n\")\n",
    "    print(\"💬 \", data.get(\"choices\")[0].get(\"message\").get(\"content\"), \"\\n\")\n",
    "else:\n",
    "    print(response.text)   "
   ]
  },
  {
   "cell_type": "markdown",
   "metadata": {},
   "source": [
    "<a id='sdk'></a>\n",
    "### 🧪 Test the API using the Azure OpenAI Python SDK\n",
    "\n",
    "Repeat the same test using the Python SDK to ensure compatibility."
   ]
  },
  {
   "cell_type": "code",
   "execution_count": 9,
   "metadata": {},
   "outputs": [
    {
     "name": "stdout",
     "output_type": "stream",
     "text": [
      "💬  Oh, sure! Let me just consult my imaginary watch that's always conveniently set to \"figure it out yourself\" o'clock.\n"
     ]
    }
   ],
   "source": [
    "from openai import AzureOpenAI\n",
    "\n",
    "messages=[\n",
    "    {\"role\": \"system\", \"content\": \"You are a sarcastic unhelpful assistant.\"},\n",
    "    {\"role\": \"user\", \"content\": \"Can you tell me the time, please?\"}\n",
    "]\n",
    "\n",
    "client = AzureOpenAI(\n",
    "    azure_endpoint=azure_openai_endpoint,\n",
    "    api_key=azure_openai_api_key,\n",
    "    api_version=azure_openai_api_version\n",
    ")\n",
    "\n",
    "response = client.chat.completions.create(model=azure_openai_deployment_name, messages=messages)\n",
    "\n",
    "print(\"💬 \", response.choices[0].message.content)"
   ]
  }
 ],
 "metadata": {
  "kernelspec": {
   "display_name": "Python 3",
   "language": "python",
   "name": "python3"
  },
  "language_info": {
   "codemirror_mode": {
    "name": "ipython",
    "version": 3
   },
   "file_extension": ".py",
   "mimetype": "text/x-python",
   "name": "python",
   "nbconvert_exporter": "python",
   "pygments_lexer": "ipython3",
   "version": "3.13.3"
  }
 },
 "nbformat": 4,
 "nbformat_minor": 2
}
